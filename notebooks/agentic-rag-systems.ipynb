{
 "cells": [
  {
   "cell_type": "markdown",
   "id": "3b05c5e2-e782-4ded-acba-a8775cb8dfef",
   "metadata": {},
   "source": [
    "- Retrieval Augmented Generation (RAG) systems combine the capabilities of data retrieval and generation models to provide context-aware responses.\n",
    "\n",
    "Példa:\n",
    "\n",
    "```\n",
    "A user’s query is passed to a search engine, and the retrieved results are given to the model along with the query. The model then generates a response based on the query and retrieved information.\n",
    "```\n",
    "\n",
    "- Agentic RAG (Retrieval-Augmented Generation) extends traditional RAG systems by combining autonomous agents with dynamic knowledge retrieval.\n",
    "- Traditional RAG systems relies on single retrieval, while Agentic RAG allows agent to perform extra search queries improving precision."
   ]
  },
  {
   "cell_type": "code",
   "execution_count": 2,
   "id": "2b79c5b2-59a8-4f30-b75a-dd59b813fe02",
   "metadata": {},
   "outputs": [],
   "source": [
    "import os\n",
    "# os.environ[\"HF_TOKEN\"] = \"\""
   ]
  },
  {
   "cell_type": "code",
   "execution_count": 3,
   "id": "89262b1e-4e09-43d8-bd8b-1149497323a4",
   "metadata": {},
   "outputs": [
    {
     "data": {
      "text/html": [
       "<pre style=\"white-space:pre;overflow-x:auto;line-height:normal;font-family:Menlo,'DejaVu Sans Mono',consolas,'Courier New',monospace\"><span style=\"color: #d4b702; text-decoration-color: #d4b702\">╭──────────────────────────────────────────────────── </span><span style=\"color: #d4b702; text-decoration-color: #d4b702; font-weight: bold\">New run</span><span style=\"color: #d4b702; text-decoration-color: #d4b702\"> ────────────────────────────────────────────────────╮</span>\n",
       "<span style=\"color: #d4b702; text-decoration-color: #d4b702\">│</span>                                                                                                                 <span style=\"color: #d4b702; text-decoration-color: #d4b702\">│</span>\n",
       "<span style=\"color: #d4b702; text-decoration-color: #d4b702\">│</span> <span style=\"font-weight: bold\">Search for luxury superhero-themed party ideas, including decorations, entertainment, and catering.</span>             <span style=\"color: #d4b702; text-decoration-color: #d4b702\">│</span>\n",
       "<span style=\"color: #d4b702; text-decoration-color: #d4b702\">│</span>                                                                                                                 <span style=\"color: #d4b702; text-decoration-color: #d4b702\">│</span>\n",
       "<span style=\"color: #d4b702; text-decoration-color: #d4b702\">╰─ InferenceClientModel - Qwen/Qwen2.5-Coder-32B-Instruct ────────────────────────────────────────────────────────╯</span>\n",
       "</pre>\n"
      ],
      "text/plain": [
       "\u001b[38;2;212;183;2m╭─\u001b[0m\u001b[38;2;212;183;2m───────────────────────────────────────────────────\u001b[0m\u001b[38;2;212;183;2m \u001b[0m\u001b[1;38;2;212;183;2mNew run\u001b[0m\u001b[38;2;212;183;2m \u001b[0m\u001b[38;2;212;183;2m───────────────────────────────────────────────────\u001b[0m\u001b[38;2;212;183;2m─╮\u001b[0m\n",
       "\u001b[38;2;212;183;2m│\u001b[0m                                                                                                                 \u001b[38;2;212;183;2m│\u001b[0m\n",
       "\u001b[38;2;212;183;2m│\u001b[0m \u001b[1mSearch for luxury superhero-themed party ideas, including decorations, entertainment, and catering.\u001b[0m             \u001b[38;2;212;183;2m│\u001b[0m\n",
       "\u001b[38;2;212;183;2m│\u001b[0m                                                                                                                 \u001b[38;2;212;183;2m│\u001b[0m\n",
       "\u001b[38;2;212;183;2m╰─\u001b[0m\u001b[38;2;212;183;2m InferenceClientModel - Qwen/Qwen2.5-Coder-32B-Instruct \u001b[0m\u001b[38;2;212;183;2m───────────────────────────────────────────────────────\u001b[0m\u001b[38;2;212;183;2m─╯\u001b[0m\n"
      ]
     },
     "metadata": {},
     "output_type": "display_data"
    },
    {
     "data": {
      "text/html": [
       "<pre style=\"white-space:pre;overflow-x:auto;line-height:normal;font-family:Menlo,'DejaVu Sans Mono',consolas,'Courier New',monospace\"><span style=\"color: #d4b702; text-decoration-color: #d4b702\">━━━━━━━━━━━━━━━━━━━━━━━━━━━━━━━━━━━━━━━━━━━━━━━━━━━━━ </span><span style=\"font-weight: bold\">Step </span><span style=\"color: #008080; text-decoration-color: #008080; font-weight: bold\">1</span><span style=\"color: #d4b702; text-decoration-color: #d4b702\"> ━━━━━━━━━━━━━━━━━━━━━━━━━━━━━━━━━━━━━━━━━━━━━━━━━━━━━━</span>\n",
       "</pre>\n"
      ],
      "text/plain": [
       "\u001b[38;2;212;183;2m━━━━━━━━━━━━━━━━━━━━━━━━━━━━━━━━━━━━━━━━━━━━━━━━━━━━━ \u001b[0m\u001b[1mStep \u001b[0m\u001b[1;36m1\u001b[0m\u001b[38;2;212;183;2m ━━━━━━━━━━━━━━━━━━━━━━━━━━━━━━━━━━━━━━━━━━━━━━━━━━━━━━\u001b[0m\n"
      ]
     },
     "metadata": {},
     "output_type": "display_data"
    },
    {
     "data": {
      "text/html": [
       "<pre style=\"white-space:pre;overflow-x:auto;line-height:normal;font-family:Menlo,'DejaVu Sans Mono',consolas,'Courier New',monospace\"> ─ <span style=\"font-weight: bold\">Executing parsed code:</span> ──────────────────────────────────────────────────────────────────────────────────────── \n",
       "  <span style=\"color: #f8f8f2; text-decoration-color: #f8f8f2; background-color: #272822\">search_results </span><span style=\"color: #ff4689; text-decoration-color: #ff4689; background-color: #272822\">=</span><span style=\"color: #f8f8f2; text-decoration-color: #f8f8f2; background-color: #272822\"> web_search(query</span><span style=\"color: #ff4689; text-decoration-color: #ff4689; background-color: #272822\">=</span><span style=\"color: #e6db74; text-decoration-color: #e6db74; background-color: #272822\">\"luxury superhero-themed party ideas\"</span><span style=\"color: #f8f8f2; text-decoration-color: #f8f8f2; background-color: #272822\">)</span><span style=\"background-color: #272822\">                                       </span>  \n",
       "  <span style=\"color: #f8f8f2; text-decoration-color: #f8f8f2; background-color: #272822\">print(search_results)</span><span style=\"background-color: #272822\">                                                                                          </span>  \n",
       " ───────────────────────────────────────────────────────────────────────────────────────────────────────────────── \n",
       "</pre>\n"
      ],
      "text/plain": [
       " ─ \u001b[1mExecuting parsed code:\u001b[0m ──────────────────────────────────────────────────────────────────────────────────────── \n",
       "  \u001b[38;2;248;248;242;48;2;39;40;34msearch_results\u001b[0m\u001b[38;2;248;248;242;48;2;39;40;34m \u001b[0m\u001b[38;2;255;70;137;48;2;39;40;34m=\u001b[0m\u001b[38;2;248;248;242;48;2;39;40;34m \u001b[0m\u001b[38;2;248;248;242;48;2;39;40;34mweb_search\u001b[0m\u001b[38;2;248;248;242;48;2;39;40;34m(\u001b[0m\u001b[38;2;248;248;242;48;2;39;40;34mquery\u001b[0m\u001b[38;2;255;70;137;48;2;39;40;34m=\u001b[0m\u001b[38;2;230;219;116;48;2;39;40;34m\"\u001b[0m\u001b[38;2;230;219;116;48;2;39;40;34mluxury superhero-themed party ideas\u001b[0m\u001b[38;2;230;219;116;48;2;39;40;34m\"\u001b[0m\u001b[38;2;248;248;242;48;2;39;40;34m)\u001b[0m\u001b[48;2;39;40;34m                                       \u001b[0m  \n",
       "  \u001b[38;2;248;248;242;48;2;39;40;34mprint\u001b[0m\u001b[38;2;248;248;242;48;2;39;40;34m(\u001b[0m\u001b[38;2;248;248;242;48;2;39;40;34msearch_results\u001b[0m\u001b[38;2;248;248;242;48;2;39;40;34m)\u001b[0m\u001b[48;2;39;40;34m                                                                                          \u001b[0m  \n",
       " ───────────────────────────────────────────────────────────────────────────────────────────────────────────────── \n"
      ]
     },
     "metadata": {},
     "output_type": "display_data"
    },
    {
     "data": {
      "text/html": [
       "<pre style=\"white-space:pre;overflow-x:auto;line-height:normal;font-family:Menlo,'DejaVu Sans Mono',consolas,'Courier New',monospace\"><span style=\"font-weight: bold\">Execution logs:</span>\n",
       "## Search Results\n",
       "\n",
       "[24 Superhero Party Ideas that Will Make You Wish You Were a \n",
       "Kid](https://howdoesshe.com/24-incredible-superhero-party-ideas-that-will-make-you-wish-you-were-a-kid-again/)\n",
       "Let your superman show his own superpowers!Kids (and even adults) who love superheroes will fall in love with these\n",
       "incredible superhero theme party ideas that will bring out the kid in everyone! From decor ideas, party foods, and \n",
       "costume ideas to superhero-themed activities and superhero games, we have different ways to cover all of your party\n",
       "needs. These ideas will make you wish you were a ...\n",
       "\n",
       "[25 Superhero Party Ideas For All Ages](https://playideas.com/25-superhero-party-ideas/)\n",
       "These super cool superhero theme party ideas are so much fun and perfect for all ages! Boy, girl, teen, or adult, \n",
       "it doesn't matter. They are perfect for your next superhero-themed food and party! We have found some amazingly \n",
       "fantastic party ideas from treats, decor, crafts to souvenirs for different sorts of superheroes, from Batman, \n",
       "Super ...\n",
       "\n",
       "[The Best Superhero Party Ideas For An Epic Party - Smart Party \n",
       "Planning](https://smartpartyplanning.com/superhero-party-ideas/)\n",
       "Awesome superhero party ideas that will have your kids showing off their superhero powers in no time at all. With \n",
       "ideas for decorations, food and party games you will easily win the status of superhero mom. These ideas can be \n",
       "achieved on a budget with a bit of DIY. The kids are going to love them. Related articles: 5 Awesome Batman Party \n",
       "Ideas\n",
       "\n",
       "[30+ Superhero Party Ideas - Canva](https://www.canva.com/ideas/superhero-party-ideas/)\n",
       "Browse a wide range of superhero party ideas and inspiration, from photos and templates in a stunning selection of \n",
       "styles and colours. ... all these ingenious concepts and more are in our special selection of superhero-themed \n",
       "designs and photos. Have a quick browse and find some excellent ideas for your party! Yellow Blue Red Superhero \n",
       "Pattern ...\n",
       "\n",
       "[Superhero Theme Party Ideas for Adults to Create an Unforgettable \n",
       "...](https://partyideaszone.com/superhero-theme-party-ideas-for-adults/)\n",
       "Unleash your inner hero with our ultimate guide to hosting an unforgettable superhero-themed party for adults! \n",
       "Explore creative costume ideas, vibrant decorations, and mouthwatering themed snacks and drinks. Engage your guests\n",
       "with fun activities like trivia, costume contests, and movie screenings. Follow our planning tips to create a \n",
       "cohesive, memorable experience that your friends will rave ...\n",
       "\n",
       "[30+ Easy Superhero Party Ideas You Can Perfect on a \n",
       "Budget](https://www.frugalcouponliving.com/superhero-party-ideas/)\n",
       "Enjoy the best DIY superhero party ideas, recipes, décor, games and more to make planning a party easy-peasy. \n",
       "Planning a themed party can be a lot of fun. And with so many popular Marvel, Avengers and DC movies being released\n",
       "in recent years, it's no wonder that superhero parties are becoming increasingly popular.\n",
       "\n",
       "[By a Pro: Superhero Party Ideas by a Professional](https://party-ideas-by-a-pro.com/party-themes/superhero-party/)\n",
       "Patriotic 4th of July recipes can easily be repurposed as Captain America themed Superhero party food, such as \n",
       "these recipes for Red, White, and Blue Chocolate Dipped Strawberries (below left, by Nicole at Baking Bites) or \n",
       "Jell-O cut into star shapes (below right, by Ali from Gimme Some Oven).\n",
       "\n",
       "[15 Superhero Birthday Party Ideas for an Epic Celebration - This Makes \n",
       "That](https://thismakesthat.com/superhero-birthday-party-ideas/)\n",
       "Create superhero-themed bingo cards for a fun and interactive party game. Laser Maze Challenge Participants \n",
       "navigate through a maze of laser beams, pretending to avoid detection by the enemy, adding an element of excitement\n",
       "to the superhero-themed party.\n",
       "\n",
       "[Superhero-Themed Party Ideas &amp; Decorations | \n",
       "CORKCICLE.](https://corkcicle.com/blogs/lifestyle/marvel-themed-party-ideas)\n",
       "Superhero-themed parties have become a beloved trend, offering an exciting way to celebrate special occasions. The \n",
       "thrill of donning capes and masks, the vibrant decorations, and the heroic atmosphere make these parties a hit \n",
       "among kids and adults alike. In this guide, we'll explore Marvel superhero party ideas, ensuring your celebration \n",
       "is as epic as the comics and movies themselves ...\n",
       "\n",
       "[Mini Party Plan: How to Plan a Superhero Birthday \n",
       "Party](https://thepartyteacher.com/2018/08/23/mini-party-plan-superhero-party/)\n",
       "One of the most popular posts on this blog is a girl's superhero party. So I thought it might be fun to create a \n",
       "mini party plan for a superhero birthday party. ... I hope my ideas help make planning your superhero party easier!\n",
       "If you have a question for me, ask away in comments! Spread the love. 1.2K. Shares . 1.2K. Shares 1.2K . Related \n",
       "Posts.\n",
       "\n",
       "Out: None\n",
       "</pre>\n"
      ],
      "text/plain": [
       "\u001b[1mExecution logs:\u001b[0m\n",
       "## Search Results\n",
       "\n",
       "[24 Superhero Party Ideas that Will Make You Wish You Were a \n",
       "Kid](https://howdoesshe.com/24-incredible-superhero-party-ideas-that-will-make-you-wish-you-were-a-kid-again/)\n",
       "Let your superman show his own superpowers!Kids (and even adults) who love superheroes will fall in love with these\n",
       "incredible superhero theme party ideas that will bring out the kid in everyone! From decor ideas, party foods, and \n",
       "costume ideas to superhero-themed activities and superhero games, we have different ways to cover all of your party\n",
       "needs. These ideas will make you wish you were a ...\n",
       "\n",
       "[25 Superhero Party Ideas For All Ages](https://playideas.com/25-superhero-party-ideas/)\n",
       "These super cool superhero theme party ideas are so much fun and perfect for all ages! Boy, girl, teen, or adult, \n",
       "it doesn't matter. They are perfect for your next superhero-themed food and party! We have found some amazingly \n",
       "fantastic party ideas from treats, decor, crafts to souvenirs for different sorts of superheroes, from Batman, \n",
       "Super ...\n",
       "\n",
       "[The Best Superhero Party Ideas For An Epic Party - Smart Party \n",
       "Planning](https://smartpartyplanning.com/superhero-party-ideas/)\n",
       "Awesome superhero party ideas that will have your kids showing off their superhero powers in no time at all. With \n",
       "ideas for decorations, food and party games you will easily win the status of superhero mom. These ideas can be \n",
       "achieved on a budget with a bit of DIY. The kids are going to love them. Related articles: 5 Awesome Batman Party \n",
       "Ideas\n",
       "\n",
       "[30+ Superhero Party Ideas - Canva](https://www.canva.com/ideas/superhero-party-ideas/)\n",
       "Browse a wide range of superhero party ideas and inspiration, from photos and templates in a stunning selection of \n",
       "styles and colours. ... all these ingenious concepts and more are in our special selection of superhero-themed \n",
       "designs and photos. Have a quick browse and find some excellent ideas for your party! Yellow Blue Red Superhero \n",
       "Pattern ...\n",
       "\n",
       "[Superhero Theme Party Ideas for Adults to Create an Unforgettable \n",
       "...](https://partyideaszone.com/superhero-theme-party-ideas-for-adults/)\n",
       "Unleash your inner hero with our ultimate guide to hosting an unforgettable superhero-themed party for adults! \n",
       "Explore creative costume ideas, vibrant decorations, and mouthwatering themed snacks and drinks. Engage your guests\n",
       "with fun activities like trivia, costume contests, and movie screenings. Follow our planning tips to create a \n",
       "cohesive, memorable experience that your friends will rave ...\n",
       "\n",
       "[30+ Easy Superhero Party Ideas You Can Perfect on a \n",
       "Budget](https://www.frugalcouponliving.com/superhero-party-ideas/)\n",
       "Enjoy the best DIY superhero party ideas, recipes, décor, games and more to make planning a party easy-peasy. \n",
       "Planning a themed party can be a lot of fun. And with so many popular Marvel, Avengers and DC movies being released\n",
       "in recent years, it's no wonder that superhero parties are becoming increasingly popular.\n",
       "\n",
       "[By a Pro: Superhero Party Ideas by a Professional](https://party-ideas-by-a-pro.com/party-themes/superhero-party/)\n",
       "Patriotic 4th of July recipes can easily be repurposed as Captain America themed Superhero party food, such as \n",
       "these recipes for Red, White, and Blue Chocolate Dipped Strawberries (below left, by Nicole at Baking Bites) or \n",
       "Jell-O cut into star shapes (below right, by Ali from Gimme Some Oven).\n",
       "\n",
       "[15 Superhero Birthday Party Ideas for an Epic Celebration - This Makes \n",
       "That](https://thismakesthat.com/superhero-birthday-party-ideas/)\n",
       "Create superhero-themed bingo cards for a fun and interactive party game. Laser Maze Challenge Participants \n",
       "navigate through a maze of laser beams, pretending to avoid detection by the enemy, adding an element of excitement\n",
       "to the superhero-themed party.\n",
       "\n",
       "[Superhero-Themed Party Ideas & Decorations | \n",
       "CORKCICLE.](https://corkcicle.com/blogs/lifestyle/marvel-themed-party-ideas)\n",
       "Superhero-themed parties have become a beloved trend, offering an exciting way to celebrate special occasions. The \n",
       "thrill of donning capes and masks, the vibrant decorations, and the heroic atmosphere make these parties a hit \n",
       "among kids and adults alike. In this guide, we'll explore Marvel superhero party ideas, ensuring your celebration \n",
       "is as epic as the comics and movies themselves ...\n",
       "\n",
       "[Mini Party Plan: How to Plan a Superhero Birthday \n",
       "Party](https://thepartyteacher.com/2018/08/23/mini-party-plan-superhero-party/)\n",
       "One of the most popular posts on this blog is a girl's superhero party. So I thought it might be fun to create a \n",
       "mini party plan for a superhero birthday party. ... I hope my ideas help make planning your superhero party easier!\n",
       "If you have a question for me, ask away in comments! Spread the love. 1.2K. Shares . 1.2K. Shares 1.2K . Related \n",
       "Posts.\n",
       "\n",
       "Out: None\n"
      ]
     },
     "metadata": {},
     "output_type": "display_data"
    },
    {
     "data": {
      "text/html": [
       "<pre style=\"white-space:pre;overflow-x:auto;line-height:normal;font-family:Menlo,'DejaVu Sans Mono',consolas,'Courier New',monospace\"><span style=\"color: #7f7f7f; text-decoration-color: #7f7f7f\">[Step 1: Duration 4.25 seconds| Input tokens: 2,053 | Output tokens: 69]</span>\n",
       "</pre>\n"
      ],
      "text/plain": [
       "\u001b[2m[Step 1: Duration 4.25 seconds| Input tokens: 2,053 | Output tokens: 69]\u001b[0m\n"
      ]
     },
     "metadata": {},
     "output_type": "display_data"
    },
    {
     "data": {
      "text/html": [
       "<pre style=\"white-space:pre;overflow-x:auto;line-height:normal;font-family:Menlo,'DejaVu Sans Mono',consolas,'Courier New',monospace\"><span style=\"color: #d4b702; text-decoration-color: #d4b702\">━━━━━━━━━━━━━━━━━━━━━━━━━━━━━━━━━━━━━━━━━━━━━━━━━━━━━ </span><span style=\"font-weight: bold\">Step </span><span style=\"color: #008080; text-decoration-color: #008080; font-weight: bold\">2</span><span style=\"color: #d4b702; text-decoration-color: #d4b702\"> ━━━━━━━━━━━━━━━━━━━━━━━━━━━━━━━━━━━━━━━━━━━━━━━━━━━━━━</span>\n",
       "</pre>\n"
      ],
      "text/plain": [
       "\u001b[38;2;212;183;2m━━━━━━━━━━━━━━━━━━━━━━━━━━━━━━━━━━━━━━━━━━━━━━━━━━━━━ \u001b[0m\u001b[1mStep \u001b[0m\u001b[1;36m2\u001b[0m\u001b[38;2;212;183;2m ━━━━━━━━━━━━━━━━━━━━━━━━━━━━━━━━━━━━━━━━━━━━━━━━━━━━━━\u001b[0m\n"
      ]
     },
     "metadata": {},
     "output_type": "display_data"
    },
    {
     "data": {
      "text/html": [
       "<pre style=\"white-space:pre;overflow-x:auto;line-height:normal;font-family:Menlo,'DejaVu Sans Mono',consolas,'Courier New',monospace\"> ─ <span style=\"font-weight: bold\">Executing parsed code:</span> ──────────────────────────────────────────────────────────────────────────────────────── \n",
       "  <span style=\"color: #f8f8f2; text-decoration-color: #f8f8f2; background-color: #272822\">url </span><span style=\"color: #ff4689; text-decoration-color: #ff4689; background-color: #272822\">=</span><span style=\"color: #f8f8f2; text-decoration-color: #f8f8f2; background-color: #272822\"> </span><span style=\"background-color: #272822\">                                                                                                         </span>  \n",
       "  <span style=\"color: #e6db74; text-decoration-color: #e6db74; background-color: #272822\">\"https://howdoesshe.com/24-incredible-superhero-party-ideas-that-will-make-you-wish-you-were-a-kid-again/\"</span><span style=\"background-color: #272822\">     </span>  \n",
       "  <span style=\"color: #f8f8f2; text-decoration-color: #f8f8f2; background-color: #272822\">page_content </span><span style=\"color: #ff4689; text-decoration-color: #ff4689; background-color: #272822\">=</span><span style=\"color: #f8f8f2; text-decoration-color: #f8f8f2; background-color: #272822\"> web_search(query</span><span style=\"color: #ff4689; text-decoration-color: #ff4689; background-color: #272822\">=</span><span style=\"color: #f8f8f2; text-decoration-color: #f8f8f2; background-color: #272822\">url)</span><span style=\"background-color: #272822\">                                                                           </span>  \n",
       "  <span style=\"color: #f8f8f2; text-decoration-color: #f8f8f2; background-color: #272822\">print(page_content)</span><span style=\"background-color: #272822\">                                                                                            </span>  \n",
       " ───────────────────────────────────────────────────────────────────────────────────────────────────────────────── \n",
       "</pre>\n"
      ],
      "text/plain": [
       " ─ \u001b[1mExecuting parsed code:\u001b[0m ──────────────────────────────────────────────────────────────────────────────────────── \n",
       "  \u001b[38;2;248;248;242;48;2;39;40;34murl\u001b[0m\u001b[38;2;248;248;242;48;2;39;40;34m \u001b[0m\u001b[38;2;255;70;137;48;2;39;40;34m=\u001b[0m\u001b[38;2;248;248;242;48;2;39;40;34m \u001b[0m\u001b[48;2;39;40;34m                                                                                                         \u001b[0m  \n",
       "  \u001b[38;2;230;219;116;48;2;39;40;34m\"\u001b[0m\u001b[38;2;230;219;116;48;2;39;40;34mhttps://howdoesshe.com/24-incredible-superhero-party-ideas-that-will-make-you-wish-you-were-a-kid-again/\u001b[0m\u001b[38;2;230;219;116;48;2;39;40;34m\"\u001b[0m\u001b[48;2;39;40;34m     \u001b[0m  \n",
       "  \u001b[38;2;248;248;242;48;2;39;40;34mpage_content\u001b[0m\u001b[38;2;248;248;242;48;2;39;40;34m \u001b[0m\u001b[38;2;255;70;137;48;2;39;40;34m=\u001b[0m\u001b[38;2;248;248;242;48;2;39;40;34m \u001b[0m\u001b[38;2;248;248;242;48;2;39;40;34mweb_search\u001b[0m\u001b[38;2;248;248;242;48;2;39;40;34m(\u001b[0m\u001b[38;2;248;248;242;48;2;39;40;34mquery\u001b[0m\u001b[38;2;255;70;137;48;2;39;40;34m=\u001b[0m\u001b[38;2;248;248;242;48;2;39;40;34murl\u001b[0m\u001b[38;2;248;248;242;48;2;39;40;34m)\u001b[0m\u001b[48;2;39;40;34m                                                                           \u001b[0m  \n",
       "  \u001b[38;2;248;248;242;48;2;39;40;34mprint\u001b[0m\u001b[38;2;248;248;242;48;2;39;40;34m(\u001b[0m\u001b[38;2;248;248;242;48;2;39;40;34mpage_content\u001b[0m\u001b[38;2;248;248;242;48;2;39;40;34m)\u001b[0m\u001b[48;2;39;40;34m                                                                                            \u001b[0m  \n",
       " ───────────────────────────────────────────────────────────────────────────────────────────────────────────────── \n"
      ]
     },
     "metadata": {},
     "output_type": "display_data"
    },
    {
     "data": {
      "text/html": [
       "<pre style=\"white-space:pre;overflow-x:auto;line-height:normal;font-family:Menlo,'DejaVu Sans Mono',consolas,'Courier New',monospace\"><span style=\"font-weight: bold\">Execution logs:</span>\n",
       "## Search Results\n",
       "\n",
       "[24 Superhero Party Ideas that Will Make You Wish You Were a \n",
       "Kid](https://howdoesshe.com/24-incredible-superhero-party-ideas-that-will-make-you-wish-you-were-a-kid-again/)\n",
       "These ideas will make you wish you were a kid again and it was your birthday or a special day. If you are willing \n",
       "to arrange your own superhero party, here are some great ideas for your themed party. Try some for your little \n",
       "superhero's next party! 24 Incredible Superhero Party Ideas! 1. Condiments and beverages that really \"POP!\" 2.\n",
       "\n",
       "[Malowanie - twarz - inspiracje | Face painting easy ... - \n",
       "Pinterest](https://www.pinterest.com/pin/542261611364615011/)\n",
       "24 Incredible Superhero Party Ideas that Will Make You Wish You Were a Kid Again! ... who love superheroes will \n",
       "fall in love with these incredible superhero theme party ideas that will bring out the kid in everyone! From decor \n",
       "ideas, party foods, and costume ideas to superhero-themed activities and superhero games, we have different ways to\n",
       "...\n",
       "\n",
       "[24 Incredible Superhero Party Ideas that Will Make You Wish You Were a \n",
       "...](https://www.pinterest.com/pin/255508978837632630/)\n",
       "24 incredible superhero party ideas that kids will love and make adults wish they were kids again. From decor \n",
       "ideas, party foods, and costume ideas to superhero-themed activities, we have all of your party needs covered.\n",
       "\n",
       "[Birthdays - How Does She](https://howdoesshe.com/category/holiday/birthdays/)\n",
       "24 Incredible Superhero Party Ideas that Will Make You Wish You Were a Kid Again! Disclosure: This post may contain\n",
       "affiliate links. This means, we may receive a small commission if you choose to purchase something from a link we \n",
       "post (including links to amazon.com because we are a participant in the Amazon Services LLC Associates Program.)\n",
       "\n",
       "[The Best Superhero Party Ideas For An Epic Party - Smart Party \n",
       "Planning](https://smartpartyplanning.com/superhero-party-ideas/)\n",
       "It is always recommended to have a party backdrop behind your food table. This backdrop can also be used as a photo\n",
       "booth. Choose 3 colors to create the backdrop. If you don't want to create your own backdrop, you could purchase a \n",
       "skyline scene setter.. An easy way to give instant superhero appeal is to create buildings either on the food table\n",
       "or around the party area.\n",
       "\n",
       "[25 Superhero Party Ideas For All Ages](https://playideas.com/25-superhero-party-ideas/)\n",
       "DIY Super Hero Jello Party Snack Ideas. ... Green Incredible Hulk Punch Party Snack Ideas. Make your party a SMASH \n",
       "with this delicious Green Incredible Hulk Punch! This punch is perfect for adding a refreshing taste to any kids \n",
       "super hero or Hulk themed party food. ... 24. Cool Batman Flashlight Party Souvenir. Send a call out to Batman with\n",
       "...\n",
       "\n",
       "[Big Fun Playpen - Kids (and even adults) who love... - \n",
       "Facebook](https://www.facebook.com/bigfunplaypen/posts/kids-and-even-adults-who-love-superheroes-will-fall-in-love-\n",
       "with-these-incredibl/2697179210538953/)\n",
       "Kids (and even adults) who love superheroes will fall in love with these incredible superhero party ideas that will\n",
       "bring out the kid in everyone! From decor ideas, party foods, and costume ideas to...\n",
       "\n",
       "[Mini Party Plan: How to Plan a Superhero Birthday \n",
       "Party](https://thepartyteacher.com/2018/08/23/mini-party-plan-superhero-party/)\n",
       "P.S. If you like the ideas in this mini party plan, you can also: See all my mini party plans here. Check out the \n",
       "full party plans in my shop. Join The Party Plan Club for exclusive, done-for-you party plans — get a new party \n",
       "every month. Take The Party Course to plan your next party using my minutes-a-day method. Superhero Party \n",
       "Invitations\n",
       "\n",
       "[Fun With Kids - | How Does She](https://howdoesshe.com/category/family/fun-with-kids/)\n",
       "24 Incredible Superhero Party Ideas that Will Make You Wish You Were a Kid Again! Disclosure: This post may contain\n",
       "affiliate links. This means, we may receive a small commission if you choose to purchase something from a link we \n",
       "post (including links to amazon.com because we are a participant in the Amazon Services LLC Associates Program.)\n",
       "\n",
       "[33 Best Superhero Party Ideas &amp; Supplies! - YouTube](https://www.youtube.com/watch?v=6teddFZ5Fwk)\n",
       "Here we are to save the day, with superhero party ideas on the way! Discover more great party ideas at \n",
       "SharingPartyIdeas.com! Printable superhero backdrop: ...\n",
       "\n",
       "Out: None\n",
       "</pre>\n"
      ],
      "text/plain": [
       "\u001b[1mExecution logs:\u001b[0m\n",
       "## Search Results\n",
       "\n",
       "[24 Superhero Party Ideas that Will Make You Wish You Were a \n",
       "Kid](https://howdoesshe.com/24-incredible-superhero-party-ideas-that-will-make-you-wish-you-were-a-kid-again/)\n",
       "These ideas will make you wish you were a kid again and it was your birthday or a special day. If you are willing \n",
       "to arrange your own superhero party, here are some great ideas for your themed party. Try some for your little \n",
       "superhero's next party! 24 Incredible Superhero Party Ideas! 1. Condiments and beverages that really \"POP!\" 2.\n",
       "\n",
       "[Malowanie - twarz - inspiracje | Face painting easy ... - \n",
       "Pinterest](https://www.pinterest.com/pin/542261611364615011/)\n",
       "24 Incredible Superhero Party Ideas that Will Make You Wish You Were a Kid Again! ... who love superheroes will \n",
       "fall in love with these incredible superhero theme party ideas that will bring out the kid in everyone! From decor \n",
       "ideas, party foods, and costume ideas to superhero-themed activities and superhero games, we have different ways to\n",
       "...\n",
       "\n",
       "[24 Incredible Superhero Party Ideas that Will Make You Wish You Were a \n",
       "...](https://www.pinterest.com/pin/255508978837632630/)\n",
       "24 incredible superhero party ideas that kids will love and make adults wish they were kids again. From decor \n",
       "ideas, party foods, and costume ideas to superhero-themed activities, we have all of your party needs covered.\n",
       "\n",
       "[Birthdays - How Does She](https://howdoesshe.com/category/holiday/birthdays/)\n",
       "24 Incredible Superhero Party Ideas that Will Make You Wish You Were a Kid Again! Disclosure: This post may contain\n",
       "affiliate links. This means, we may receive a small commission if you choose to purchase something from a link we \n",
       "post (including links to amazon.com because we are a participant in the Amazon Services LLC Associates Program.)\n",
       "\n",
       "[The Best Superhero Party Ideas For An Epic Party - Smart Party \n",
       "Planning](https://smartpartyplanning.com/superhero-party-ideas/)\n",
       "It is always recommended to have a party backdrop behind your food table. This backdrop can also be used as a photo\n",
       "booth. Choose 3 colors to create the backdrop. If you don't want to create your own backdrop, you could purchase a \n",
       "skyline scene setter.. An easy way to give instant superhero appeal is to create buildings either on the food table\n",
       "or around the party area.\n",
       "\n",
       "[25 Superhero Party Ideas For All Ages](https://playideas.com/25-superhero-party-ideas/)\n",
       "DIY Super Hero Jello Party Snack Ideas. ... Green Incredible Hulk Punch Party Snack Ideas. Make your party a SMASH \n",
       "with this delicious Green Incredible Hulk Punch! This punch is perfect for adding a refreshing taste to any kids \n",
       "super hero or Hulk themed party food. ... 24. Cool Batman Flashlight Party Souvenir. Send a call out to Batman with\n",
       "...\n",
       "\n",
       "[Big Fun Playpen - Kids (and even adults) who love... - \n",
       "Facebook](https://www.facebook.com/bigfunplaypen/posts/kids-and-even-adults-who-love-superheroes-will-fall-in-love-\n",
       "with-these-incredibl/2697179210538953/)\n",
       "Kids (and even adults) who love superheroes will fall in love with these incredible superhero party ideas that will\n",
       "bring out the kid in everyone! From decor ideas, party foods, and costume ideas to...\n",
       "\n",
       "[Mini Party Plan: How to Plan a Superhero Birthday \n",
       "Party](https://thepartyteacher.com/2018/08/23/mini-party-plan-superhero-party/)\n",
       "P.S. If you like the ideas in this mini party plan, you can also: See all my mini party plans here. Check out the \n",
       "full party plans in my shop. Join The Party Plan Club for exclusive, done-for-you party plans — get a new party \n",
       "every month. Take The Party Course to plan your next party using my minutes-a-day method. Superhero Party \n",
       "Invitations\n",
       "\n",
       "[Fun With Kids - | How Does She](https://howdoesshe.com/category/family/fun-with-kids/)\n",
       "24 Incredible Superhero Party Ideas that Will Make You Wish You Were a Kid Again! Disclosure: This post may contain\n",
       "affiliate links. This means, we may receive a small commission if you choose to purchase something from a link we \n",
       "post (including links to amazon.com because we are a participant in the Amazon Services LLC Associates Program.)\n",
       "\n",
       "[33 Best Superhero Party Ideas & Supplies! - YouTube](https://www.youtube.com/watch?v=6teddFZ5Fwk)\n",
       "Here we are to save the day, with superhero party ideas on the way! Discover more great party ideas at \n",
       "SharingPartyIdeas.com! Printable superhero backdrop: ...\n",
       "\n",
       "Out: None\n"
      ]
     },
     "metadata": {},
     "output_type": "display_data"
    },
    {
     "data": {
      "text/html": [
       "<pre style=\"white-space:pre;overflow-x:auto;line-height:normal;font-family:Menlo,'DejaVu Sans Mono',consolas,'Courier New',monospace\"><span style=\"color: #7f7f7f; text-decoration-color: #7f7f7f\">[Step 2: Duration 4.71 seconds| Input tokens: 5,295 | Output tokens: 179]</span>\n",
       "</pre>\n"
      ],
      "text/plain": [
       "\u001b[2m[Step 2: Duration 4.71 seconds| Input tokens: 5,295 | Output tokens: 179]\u001b[0m\n"
      ]
     },
     "metadata": {},
     "output_type": "display_data"
    },
    {
     "data": {
      "text/html": [
       "<pre style=\"white-space:pre;overflow-x:auto;line-height:normal;font-family:Menlo,'DejaVu Sans Mono',consolas,'Courier New',monospace\"><span style=\"color: #d4b702; text-decoration-color: #d4b702\">━━━━━━━━━━━━━━━━━━━━━━━━━━━━━━━━━━━━━━━━━━━━━━━━━━━━━ </span><span style=\"font-weight: bold\">Step </span><span style=\"color: #008080; text-decoration-color: #008080; font-weight: bold\">3</span><span style=\"color: #d4b702; text-decoration-color: #d4b702\"> ━━━━━━━━━━━━━━━━━━━━━━━━━━━━━━━━━━━━━━━━━━━━━━━━━━━━━━</span>\n",
       "</pre>\n"
      ],
      "text/plain": [
       "\u001b[38;2;212;183;2m━━━━━━━━━━━━━━━━━━━━━━━━━━━━━━━━━━━━━━━━━━━━━━━━━━━━━ \u001b[0m\u001b[1mStep \u001b[0m\u001b[1;36m3\u001b[0m\u001b[38;2;212;183;2m ━━━━━━━━━━━━━━━━━━━━━━━━━━━━━━━━━━━━━━━━━━━━━━━━━━━━━━\u001b[0m\n"
      ]
     },
     "metadata": {},
     "output_type": "display_data"
    },
    {
     "data": {
      "text/html": [
       "<pre style=\"white-space:pre;overflow-x:auto;line-height:normal;font-family:Menlo,'DejaVu Sans Mono',consolas,'Courier New',monospace\"><span style=\"color: #800000; text-decoration-color: #800000; font-weight: bold\">Error in generating model output:</span>\n",
       "<span style=\"color: #008080; text-decoration-color: #008080; font-weight: bold\">402</span><span style=\"color: #800000; text-decoration-color: #800000; font-weight: bold\"> Client Error: Payment Required for url: </span><span style=\"color: #0000ff; text-decoration-color: #0000ff; text-decoration: underline\">https://router.huggingface.co/together/v1/chat/completions</span><span style=\"color: #800000; text-decoration-color: #800000; font-weight: bold\"> (Request ID:</span>\n",
       "<span style=\"color: #808000; text-decoration-color: #808000; font-weight: bold\">Root</span><span style=\"color: #800000; text-decoration-color: #800000; font-weight: bold\">=</span><span style=\"color: #008080; text-decoration-color: #008080; font-weight: bold\">1</span><span style=\"color: #800000; text-decoration-color: #800000; font-weight: bold\">-682a1f6e-10cc9fc02ae41b3038d476b8;</span><span style=\"color: #ffff00; text-decoration-color: #ffff00\">03c90455-f5b4-4f1a-93df-44d316f558c7</span><span style=\"color: #800000; text-decoration-color: #800000; font-weight: bold\">)</span>\n",
       "\n",
       "<span style=\"color: #800000; text-decoration-color: #800000; font-weight: bold\">You have exceeded your monthly included credits for Inference Providers. Subscribe to PRO to get 2</span><span style=\"color: #008080; text-decoration-color: #008080; font-weight: bold\">0x</span><span style=\"color: #800000; text-decoration-color: #800000; font-weight: bold\"> more monthly </span>\n",
       "<span style=\"color: #800000; text-decoration-color: #800000; font-weight: bold\">included credits.</span>\n",
       "</pre>\n"
      ],
      "text/plain": [
       "\u001b[1;31mError in generating model output:\u001b[0m\n",
       "\u001b[1;36m402\u001b[0m\u001b[1;31m Client Error: Payment Required for url: \u001b[0m\u001b[4;94mhttps://router.huggingface.co/together/v1/chat/completions\u001b[0m\u001b[1;31m \u001b[0m\u001b[1;31m(\u001b[0m\u001b[1;31mRequest ID:\u001b[0m\n",
       "\u001b[1;33mRoot\u001b[0m\u001b[1;31m=\u001b[0m\u001b[1;36m1\u001b[0m\u001b[1;31m-682a1f6e-10cc9fc02ae41b3038d476b8;\u001b[0m\u001b[93m03c90455-f5b4-4f1a-93df-44d316f558c7\u001b[0m\u001b[1;31m)\u001b[0m\n",
       "\n",
       "\u001b[1;31mYou have exceeded your monthly included credits for Inference Providers. Subscribe to PRO to get 2\u001b[0m\u001b[1;36m0x\u001b[0m\u001b[1;31m more monthly \u001b[0m\n",
       "\u001b[1;31mincluded credits.\u001b[0m\n"
      ]
     },
     "metadata": {},
     "output_type": "display_data"
    },
    {
     "data": {
      "text/html": [
       "<pre style=\"white-space:pre;overflow-x:auto;line-height:normal;font-family:Menlo,'DejaVu Sans Mono',consolas,'Courier New',monospace\"><span style=\"color: #7f7f7f; text-decoration-color: #7f7f7f\">[Step 3: Duration 0.60 seconds| Input tokens: 8,537 | Output tokens: 289]</span>\n",
       "</pre>\n"
      ],
      "text/plain": [
       "\u001b[2m[Step 3: Duration 0.60 seconds| Input tokens: 8,537 | Output tokens: 289]\u001b[0m\n"
      ]
     },
     "metadata": {},
     "output_type": "display_data"
    },
    {
     "ename": "AgentGenerationError",
     "evalue": "Error in generating model output:\n402 Client Error: Payment Required for url: https://router.huggingface.co/together/v1/chat/completions (Request ID: Root=1-682a1f6e-10cc9fc02ae41b3038d476b8;03c90455-f5b4-4f1a-93df-44d316f558c7)\n\nYou have exceeded your monthly included credits for Inference Providers. Subscribe to PRO to get 20x more monthly included credits.",
     "output_type": "error",
     "traceback": [
      "\u001b[0;31m---------------------------------------------------------------------------\u001b[0m",
      "\u001b[0;31mHTTPError\u001b[0m                                 Traceback (most recent call last)",
      "File \u001b[0;32m/usr/local/lib/python3.10/site-packages/huggingface_hub/utils/_http.py:409\u001b[0m, in \u001b[0;36mhf_raise_for_status\u001b[0;34m(response, endpoint_name)\u001b[0m\n\u001b[1;32m    408\u001b[0m \u001b[38;5;28;01mtry\u001b[39;00m:\n\u001b[0;32m--> 409\u001b[0m     \u001b[43mresponse\u001b[49m\u001b[38;5;241;43m.\u001b[39;49m\u001b[43mraise_for_status\u001b[49m\u001b[43m(\u001b[49m\u001b[43m)\u001b[49m\n\u001b[1;32m    410\u001b[0m \u001b[38;5;28;01mexcept\u001b[39;00m HTTPError \u001b[38;5;28;01mas\u001b[39;00m e:\n",
      "File \u001b[0;32m/usr/local/lib/python3.10/site-packages/requests/models.py:1024\u001b[0m, in \u001b[0;36mResponse.raise_for_status\u001b[0;34m(self)\u001b[0m\n\u001b[1;32m   1023\u001b[0m \u001b[38;5;28;01mif\u001b[39;00m http_error_msg:\n\u001b[0;32m-> 1024\u001b[0m     \u001b[38;5;28;01mraise\u001b[39;00m HTTPError(http_error_msg, response\u001b[38;5;241m=\u001b[39m\u001b[38;5;28mself\u001b[39m)\n",
      "\u001b[0;31mHTTPError\u001b[0m: 402 Client Error: Payment Required for url: https://router.huggingface.co/together/v1/chat/completions",
      "\nThe above exception was the direct cause of the following exception:\n",
      "\u001b[0;31mHfHubHTTPError\u001b[0m                            Traceback (most recent call last)",
      "File \u001b[0;32m/usr/local/lib/python3.10/site-packages/smolagents/agents.py:1333\u001b[0m, in \u001b[0;36mCodeAgent._step_stream\u001b[0;34m(self, memory_step)\u001b[0m\n\u001b[1;32m   1332\u001b[0m \u001b[38;5;28;01melse\u001b[39;00m:\n\u001b[0;32m-> 1333\u001b[0m     chat_message: ChatMessage \u001b[38;5;241m=\u001b[39m \u001b[38;5;28;43mself\u001b[39;49m\u001b[38;5;241;43m.\u001b[39;49m\u001b[43mmodel\u001b[49m\u001b[38;5;241;43m.\u001b[39;49m\u001b[43mgenerate\u001b[49m\u001b[43m(\u001b[49m\n\u001b[1;32m   1334\u001b[0m \u001b[43m        \u001b[49m\u001b[43minput_messages\u001b[49m\u001b[43m,\u001b[49m\n\u001b[1;32m   1335\u001b[0m \u001b[43m        \u001b[49m\u001b[43mstop_sequences\u001b[49m\u001b[38;5;241;43m=\u001b[39;49m\u001b[43m[\u001b[49m\u001b[38;5;124;43m\"\u001b[39;49m\u001b[38;5;124;43m<end_code>\u001b[39;49m\u001b[38;5;124;43m\"\u001b[39;49m\u001b[43m,\u001b[49m\u001b[43m \u001b[49m\u001b[38;5;124;43m\"\u001b[39;49m\u001b[38;5;124;43mObservation:\u001b[39;49m\u001b[38;5;124;43m\"\u001b[39;49m\u001b[43m,\u001b[49m\u001b[43m \u001b[49m\u001b[38;5;124;43m\"\u001b[39;49m\u001b[38;5;124;43mCalling tools:\u001b[39;49m\u001b[38;5;124;43m\"\u001b[39;49m\u001b[43m]\u001b[49m\u001b[43m,\u001b[49m\n\u001b[1;32m   1336\u001b[0m \u001b[43m        \u001b[49m\u001b[38;5;241;43m*\u001b[39;49m\u001b[38;5;241;43m*\u001b[39;49m\u001b[43madditional_args\u001b[49m\u001b[43m,\u001b[49m\n\u001b[1;32m   1337\u001b[0m \u001b[43m    \u001b[49m\u001b[43m)\u001b[49m\n\u001b[1;32m   1338\u001b[0m     memory_step\u001b[38;5;241m.\u001b[39mmodel_output_message \u001b[38;5;241m=\u001b[39m chat_message\n",
      "File \u001b[0;32m/usr/local/lib/python3.10/site-packages/smolagents/models.py:1281\u001b[0m, in \u001b[0;36mInferenceClientModel.generate\u001b[0;34m(self, messages, stop_sequences, grammar, tools_to_call_from, **kwargs)\u001b[0m\n\u001b[1;32m   1272\u001b[0m completion_kwargs \u001b[38;5;241m=\u001b[39m \u001b[38;5;28mself\u001b[39m\u001b[38;5;241m.\u001b[39m_prepare_completion_kwargs(\n\u001b[1;32m   1273\u001b[0m     messages\u001b[38;5;241m=\u001b[39mmessages,\n\u001b[1;32m   1274\u001b[0m     stop_sequences\u001b[38;5;241m=\u001b[39mstop_sequences,\n\u001b[0;32m   (...)\u001b[0m\n\u001b[1;32m   1279\u001b[0m     \u001b[38;5;241m*\u001b[39m\u001b[38;5;241m*\u001b[39mkwargs,\n\u001b[1;32m   1280\u001b[0m )\n\u001b[0;32m-> 1281\u001b[0m response \u001b[38;5;241m=\u001b[39m \u001b[38;5;28;43mself\u001b[39;49m\u001b[38;5;241;43m.\u001b[39;49m\u001b[43mclient\u001b[49m\u001b[38;5;241;43m.\u001b[39;49m\u001b[43mchat_completion\u001b[49m\u001b[43m(\u001b[49m\u001b[38;5;241;43m*\u001b[39;49m\u001b[38;5;241;43m*\u001b[39;49m\u001b[43mcompletion_kwargs\u001b[49m\u001b[43m)\u001b[49m\n\u001b[1;32m   1283\u001b[0m \u001b[38;5;28mself\u001b[39m\u001b[38;5;241m.\u001b[39mlast_input_token_count \u001b[38;5;241m=\u001b[39m response\u001b[38;5;241m.\u001b[39musage\u001b[38;5;241m.\u001b[39mprompt_tokens\n",
      "File \u001b[0;32m/usr/local/lib/python3.10/site-packages/huggingface_hub/inference/_client.py:923\u001b[0m, in \u001b[0;36mInferenceClient.chat_completion\u001b[0;34m(self, messages, model, stream, frequency_penalty, logit_bias, logprobs, max_tokens, n, presence_penalty, response_format, seed, stop, stream_options, temperature, tool_choice, tool_prompt, tools, top_logprobs, top_p, extra_body)\u001b[0m\n\u001b[1;32m    916\u001b[0m request_parameters \u001b[38;5;241m=\u001b[39m provider_helper\u001b[38;5;241m.\u001b[39mprepare_request(\n\u001b[1;32m    917\u001b[0m     inputs\u001b[38;5;241m=\u001b[39mmessages,\n\u001b[1;32m    918\u001b[0m     parameters\u001b[38;5;241m=\u001b[39mparameters,\n\u001b[0;32m   (...)\u001b[0m\n\u001b[1;32m    921\u001b[0m     api_key\u001b[38;5;241m=\u001b[39m\u001b[38;5;28mself\u001b[39m\u001b[38;5;241m.\u001b[39mtoken,\n\u001b[1;32m    922\u001b[0m )\n\u001b[0;32m--> 923\u001b[0m data \u001b[38;5;241m=\u001b[39m \u001b[38;5;28;43mself\u001b[39;49m\u001b[38;5;241;43m.\u001b[39;49m\u001b[43m_inner_post\u001b[49m\u001b[43m(\u001b[49m\u001b[43mrequest_parameters\u001b[49m\u001b[43m,\u001b[49m\u001b[43m \u001b[49m\u001b[43mstream\u001b[49m\u001b[38;5;241;43m=\u001b[39;49m\u001b[43mstream\u001b[49m\u001b[43m)\u001b[49m\n\u001b[1;32m    925\u001b[0m \u001b[38;5;28;01mif\u001b[39;00m stream:\n",
      "File \u001b[0;32m/usr/local/lib/python3.10/site-packages/huggingface_hub/inference/_client.py:279\u001b[0m, in \u001b[0;36mInferenceClient._inner_post\u001b[0;34m(self, request_parameters, stream)\u001b[0m\n\u001b[1;32m    278\u001b[0m \u001b[38;5;28;01mtry\u001b[39;00m:\n\u001b[0;32m--> 279\u001b[0m     \u001b[43mhf_raise_for_status\u001b[49m\u001b[43m(\u001b[49m\u001b[43mresponse\u001b[49m\u001b[43m)\u001b[49m\n\u001b[1;32m    280\u001b[0m     \u001b[38;5;28;01mreturn\u001b[39;00m response\u001b[38;5;241m.\u001b[39miter_lines() \u001b[38;5;28;01mif\u001b[39;00m stream \u001b[38;5;28;01melse\u001b[39;00m response\u001b[38;5;241m.\u001b[39mcontent\n",
      "File \u001b[0;32m/usr/local/lib/python3.10/site-packages/huggingface_hub/utils/_http.py:482\u001b[0m, in \u001b[0;36mhf_raise_for_status\u001b[0;34m(response, endpoint_name)\u001b[0m\n\u001b[1;32m    480\u001b[0m \u001b[38;5;66;03m# Convert `HTTPError` into a `HfHubHTTPError` to display request information\u001b[39;00m\n\u001b[1;32m    481\u001b[0m \u001b[38;5;66;03m# as well (request id and/or server error message)\u001b[39;00m\n\u001b[0;32m--> 482\u001b[0m \u001b[38;5;28;01mraise\u001b[39;00m _format(HfHubHTTPError, \u001b[38;5;28mstr\u001b[39m(e), response) \u001b[38;5;28;01mfrom\u001b[39;00m\u001b[38;5;250m \u001b[39m\u001b[38;5;21;01me\u001b[39;00m\n",
      "\u001b[0;31mHfHubHTTPError\u001b[0m: 402 Client Error: Payment Required for url: https://router.huggingface.co/together/v1/chat/completions (Request ID: Root=1-682a1f6e-10cc9fc02ae41b3038d476b8;03c90455-f5b4-4f1a-93df-44d316f558c7)\n\nYou have exceeded your monthly included credits for Inference Providers. Subscribe to PRO to get 20x more monthly included credits.",
      "\nThe above exception was the direct cause of the following exception:\n",
      "\u001b[0;31mAgentGenerationError\u001b[0m                      Traceback (most recent call last)",
      "Cell \u001b[0;32mIn[3], line 11\u001b[0m\n\u001b[1;32m      4\u001b[0m model \u001b[38;5;241m=\u001b[39m InferenceClientModel()\n\u001b[1;32m      6\u001b[0m agent \u001b[38;5;241m=\u001b[39m CodeAgent(\n\u001b[1;32m      7\u001b[0m     model\u001b[38;5;241m=\u001b[39mmodel,\n\u001b[1;32m      8\u001b[0m     tools\u001b[38;5;241m=\u001b[39m[search_tool],\n\u001b[1;32m      9\u001b[0m )\n\u001b[0;32m---> 11\u001b[0m response \u001b[38;5;241m=\u001b[39m \u001b[43magent\u001b[49m\u001b[38;5;241;43m.\u001b[39;49m\u001b[43mrun\u001b[49m\u001b[43m(\u001b[49m\n\u001b[1;32m     12\u001b[0m \u001b[43m    \u001b[49m\u001b[38;5;124;43m\"\u001b[39;49m\u001b[38;5;124;43mSearch for luxury superhero-themed party ideas, including decorations, entertainment, and catering.\u001b[39;49m\u001b[38;5;124;43m\"\u001b[39;49m\n\u001b[1;32m     13\u001b[0m \u001b[43m)\u001b[49m\n\u001b[1;32m     14\u001b[0m \u001b[38;5;28mprint\u001b[39m(response)\n",
      "File \u001b[0;32m/usr/local/lib/python3.10/site-packages/smolagents/agents.py:351\u001b[0m, in \u001b[0;36mMultiStepAgent.run\u001b[0;34m(self, task, stream, reset, images, additional_args, max_steps)\u001b[0m\n\u001b[1;32m    349\u001b[0m     \u001b[38;5;28;01mreturn\u001b[39;00m \u001b[38;5;28mself\u001b[39m\u001b[38;5;241m.\u001b[39m_run_stream(task\u001b[38;5;241m=\u001b[39m\u001b[38;5;28mself\u001b[39m\u001b[38;5;241m.\u001b[39mtask, max_steps\u001b[38;5;241m=\u001b[39mmax_steps, images\u001b[38;5;241m=\u001b[39mimages)\n\u001b[1;32m    350\u001b[0m \u001b[38;5;66;03m# Outputs are returned only at the end. We only look at the last step.\u001b[39;00m\n\u001b[0;32m--> 351\u001b[0m \u001b[38;5;28;01mreturn\u001b[39;00m \u001b[38;5;28;43mlist\u001b[39;49m\u001b[43m(\u001b[49m\u001b[38;5;28;43mself\u001b[39;49m\u001b[38;5;241;43m.\u001b[39;49m\u001b[43m_run_stream\u001b[49m\u001b[43m(\u001b[49m\u001b[43mtask\u001b[49m\u001b[38;5;241;43m=\u001b[39;49m\u001b[38;5;28;43mself\u001b[39;49m\u001b[38;5;241;43m.\u001b[39;49m\u001b[43mtask\u001b[49m\u001b[43m,\u001b[49m\u001b[43m \u001b[49m\u001b[43mmax_steps\u001b[49m\u001b[38;5;241;43m=\u001b[39;49m\u001b[43mmax_steps\u001b[49m\u001b[43m,\u001b[49m\u001b[43m \u001b[49m\u001b[43mimages\u001b[49m\u001b[38;5;241;43m=\u001b[39;49m\u001b[43mimages\u001b[49m\u001b[43m)\u001b[49m\u001b[43m)\u001b[49m[\u001b[38;5;241m-\u001b[39m\u001b[38;5;241m1\u001b[39m]\u001b[38;5;241m.\u001b[39mfinal_answer\n",
      "File \u001b[0;32m/usr/local/lib/python3.10/site-packages/smolagents/agents.py:379\u001b[0m, in \u001b[0;36mMultiStepAgent._run_stream\u001b[0;34m(self, task, max_steps, images)\u001b[0m\n\u001b[1;32m    376\u001b[0m     final_answer \u001b[38;5;241m=\u001b[39m el\n\u001b[1;32m    377\u001b[0m \u001b[38;5;28;01mexcept\u001b[39;00m AgentGenerationError \u001b[38;5;28;01mas\u001b[39;00m e:\n\u001b[1;32m    378\u001b[0m     \u001b[38;5;66;03m# Agent generation errors are not caused by a Model error but an implementation error: so we should raise them and exit.\u001b[39;00m\n\u001b[0;32m--> 379\u001b[0m     \u001b[38;5;28;01mraise\u001b[39;00m e\n\u001b[1;32m    380\u001b[0m \u001b[38;5;28;01mexcept\u001b[39;00m AgentError \u001b[38;5;28;01mas\u001b[39;00m e:\n\u001b[1;32m    381\u001b[0m     \u001b[38;5;66;03m# Other AgentError types are caused by the Model, so we should log them and iterate.\u001b[39;00m\n\u001b[1;32m    382\u001b[0m     action_step\u001b[38;5;241m.\u001b[39merror \u001b[38;5;241m=\u001b[39m e\n",
      "File \u001b[0;32m/usr/local/lib/python3.10/site-packages/smolagents/agents.py:374\u001b[0m, in \u001b[0;36mMultiStepAgent._run_stream\u001b[0;34m(self, task, max_steps, images)\u001b[0m\n\u001b[1;32m    370\u001b[0m action_step \u001b[38;5;241m=\u001b[39m ActionStep(\n\u001b[1;32m    371\u001b[0m     step_number\u001b[38;5;241m=\u001b[39m\u001b[38;5;28mself\u001b[39m\u001b[38;5;241m.\u001b[39mstep_number, start_time\u001b[38;5;241m=\u001b[39mstep_start_time, observations_images\u001b[38;5;241m=\u001b[39mimages\n\u001b[1;32m    372\u001b[0m )\n\u001b[1;32m    373\u001b[0m \u001b[38;5;28;01mtry\u001b[39;00m:\n\u001b[0;32m--> 374\u001b[0m     \u001b[38;5;28;01mfor\u001b[39;00m el \u001b[38;5;129;01min\u001b[39;00m \u001b[38;5;28mself\u001b[39m\u001b[38;5;241m.\u001b[39m_execute_step(action_step):\n\u001b[1;32m    375\u001b[0m         \u001b[38;5;28;01myield\u001b[39;00m el\n\u001b[1;32m    376\u001b[0m     final_answer \u001b[38;5;241m=\u001b[39m el\n",
      "File \u001b[0;32m/usr/local/lib/python3.10/site-packages/smolagents/agents.py:397\u001b[0m, in \u001b[0;36mMultiStepAgent._execute_step\u001b[0;34m(self, memory_step)\u001b[0m\n\u001b[1;32m    395\u001b[0m \u001b[38;5;28mself\u001b[39m\u001b[38;5;241m.\u001b[39mlogger\u001b[38;5;241m.\u001b[39mlog_rule(\u001b[38;5;124mf\u001b[39m\u001b[38;5;124m\"\u001b[39m\u001b[38;5;124mStep \u001b[39m\u001b[38;5;132;01m{\u001b[39;00m\u001b[38;5;28mself\u001b[39m\u001b[38;5;241m.\u001b[39mstep_number\u001b[38;5;132;01m}\u001b[39;00m\u001b[38;5;124m\"\u001b[39m, level\u001b[38;5;241m=\u001b[39mLogLevel\u001b[38;5;241m.\u001b[39mINFO)\n\u001b[1;32m    396\u001b[0m final_answer \u001b[38;5;241m=\u001b[39m \u001b[38;5;28;01mNone\u001b[39;00m\n\u001b[0;32m--> 397\u001b[0m \u001b[38;5;28;01mfor\u001b[39;00m el \u001b[38;5;129;01min\u001b[39;00m \u001b[38;5;28mself\u001b[39m\u001b[38;5;241m.\u001b[39m_step_stream(memory_step):\n\u001b[1;32m    398\u001b[0m     final_answer \u001b[38;5;241m=\u001b[39m el\n\u001b[1;32m    399\u001b[0m     \u001b[38;5;28;01myield\u001b[39;00m el\n",
      "File \u001b[0;32m/usr/local/lib/python3.10/site-packages/smolagents/agents.py:1354\u001b[0m, in \u001b[0;36mCodeAgent._step_stream\u001b[0;34m(self, memory_step)\u001b[0m\n\u001b[1;32m   1352\u001b[0m     memory_step\u001b[38;5;241m.\u001b[39mmodel_output \u001b[38;5;241m=\u001b[39m model_output\n\u001b[1;32m   1353\u001b[0m \u001b[38;5;28;01mexcept\u001b[39;00m \u001b[38;5;167;01mException\u001b[39;00m \u001b[38;5;28;01mas\u001b[39;00m e:\n\u001b[0;32m-> 1354\u001b[0m     \u001b[38;5;28;01mraise\u001b[39;00m AgentGenerationError(\u001b[38;5;124mf\u001b[39m\u001b[38;5;124m\"\u001b[39m\u001b[38;5;124mError in generating model output:\u001b[39m\u001b[38;5;130;01m\\n\u001b[39;00m\u001b[38;5;132;01m{\u001b[39;00me\u001b[38;5;132;01m}\u001b[39;00m\u001b[38;5;124m\"\u001b[39m, \u001b[38;5;28mself\u001b[39m\u001b[38;5;241m.\u001b[39mlogger) \u001b[38;5;28;01mfrom\u001b[39;00m\u001b[38;5;250m \u001b[39m\u001b[38;5;21;01me\u001b[39;00m\n\u001b[1;32m   1356\u001b[0m \u001b[38;5;66;03m### Parse output ###\u001b[39;00m\n\u001b[1;32m   1357\u001b[0m \u001b[38;5;28;01mtry\u001b[39;00m:\n",
      "\u001b[0;31mAgentGenerationError\u001b[0m: Error in generating model output:\n402 Client Error: Payment Required for url: https://router.huggingface.co/together/v1/chat/completions (Request ID: Root=1-682a1f6e-10cc9fc02ae41b3038d476b8;03c90455-f5b4-4f1a-93df-44d316f558c7)\n\nYou have exceeded your monthly included credits for Inference Providers. Subscribe to PRO to get 20x more monthly included credits."
     ]
    }
   ],
   "source": [
    "from smolagents import CodeAgent, DuckDuckGoSearchTool, InferenceClientModel\n",
    "\n",
    "search_tool = DuckDuckGoSearchTool()\n",
    "model = InferenceClientModel()\n",
    "\n",
    "agent = CodeAgent(\n",
    "    model=model,\n",
    "    tools=[search_tool],\n",
    ")\n",
    "\n",
    "response = agent.run(\n",
    "    \"Search for luxury superhero-themed party ideas, including decorations, entertainment, and catering.\"\n",
    ")\n",
    "print(response)"
   ]
  }
 ],
 "metadata": {
  "kernelspec": {
   "display_name": "Python 3 (ipykernel)",
   "language": "python",
   "name": "python3"
  },
  "language_info": {
   "codemirror_mode": {
    "name": "ipython",
    "version": 3
   },
   "file_extension": ".py",
   "mimetype": "text/x-python",
   "name": "python",
   "nbconvert_exporter": "python",
   "pygments_lexer": "ipython3",
   "version": "3.10.12"
  }
 },
 "nbformat": 4,
 "nbformat_minor": 5
}
