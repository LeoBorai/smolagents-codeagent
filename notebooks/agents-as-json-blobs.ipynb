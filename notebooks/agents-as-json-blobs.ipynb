{
 "cells": [
  {
   "cell_type": "markdown",
   "id": "183b5452-c8b6-4950-8d28-1a11fc4d47f8",
   "metadata": {},
   "source": [
    "- `ToolCallingAgent`'s uses JSON Blobs instead of Python Code as `CodeAgent`s does.\n",
    "- This is the default behavior for AI solutions provided by Open API and Anthropic"
   ]
  },
  {
   "cell_type": "code",
   "execution_count": 3,
   "id": "85237284-c168-4aa1-b8cd-8fabd1914891",
   "metadata": {},
   "outputs": [
    {
     "data": {
      "text/html": [
       "<pre style=\"white-space:pre;overflow-x:auto;line-height:normal;font-family:Menlo,'DejaVu Sans Mono',consolas,'Courier New',monospace\"><span style=\"color: #d4b702; text-decoration-color: #d4b702\">╭──────────────────────────────────────────────────── </span><span style=\"color: #d4b702; text-decoration-color: #d4b702; font-weight: bold\">New run</span><span style=\"color: #d4b702; text-decoration-color: #d4b702\"> ────────────────────────────────────────────────────╮</span>\n",
       "<span style=\"color: #d4b702; text-decoration-color: #d4b702\">│</span>                                                                                                                 <span style=\"color: #d4b702; text-decoration-color: #d4b702\">│</span>\n",
       "<span style=\"color: #d4b702; text-decoration-color: #d4b702\">│</span> <span style=\"font-weight: bold\">Search for the best music recommendations for a party at the Wayne's mansion.</span>                                   <span style=\"color: #d4b702; text-decoration-color: #d4b702\">│</span>\n",
       "<span style=\"color: #d4b702; text-decoration-color: #d4b702\">│</span>                                                                                                                 <span style=\"color: #d4b702; text-decoration-color: #d4b702\">│</span>\n",
       "<span style=\"color: #d4b702; text-decoration-color: #d4b702\">╰─ InferenceClientModel - Qwen/Qwen2.5-Coder-32B-Instruct ────────────────────────────────────────────────────────╯</span>\n",
       "</pre>\n"
      ],
      "text/plain": [
       "\u001b[38;2;212;183;2m╭─\u001b[0m\u001b[38;2;212;183;2m───────────────────────────────────────────────────\u001b[0m\u001b[38;2;212;183;2m \u001b[0m\u001b[1;38;2;212;183;2mNew run\u001b[0m\u001b[38;2;212;183;2m \u001b[0m\u001b[38;2;212;183;2m───────────────────────────────────────────────────\u001b[0m\u001b[38;2;212;183;2m─╮\u001b[0m\n",
       "\u001b[38;2;212;183;2m│\u001b[0m                                                                                                                 \u001b[38;2;212;183;2m│\u001b[0m\n",
       "\u001b[38;2;212;183;2m│\u001b[0m \u001b[1mSearch for the best music recommendations for a party at the Wayne's mansion.\u001b[0m                                   \u001b[38;2;212;183;2m│\u001b[0m\n",
       "\u001b[38;2;212;183;2m│\u001b[0m                                                                                                                 \u001b[38;2;212;183;2m│\u001b[0m\n",
       "\u001b[38;2;212;183;2m╰─\u001b[0m\u001b[38;2;212;183;2m InferenceClientModel - Qwen/Qwen2.5-Coder-32B-Instruct \u001b[0m\u001b[38;2;212;183;2m───────────────────────────────────────────────────────\u001b[0m\u001b[38;2;212;183;2m─╯\u001b[0m\n"
      ]
     },
     "metadata": {},
     "output_type": "display_data"
    },
    {
     "data": {
      "text/html": [
       "<pre style=\"white-space:pre;overflow-x:auto;line-height:normal;font-family:Menlo,'DejaVu Sans Mono',consolas,'Courier New',monospace\"><span style=\"color: #d4b702; text-decoration-color: #d4b702\">━━━━━━━━━━━━━━━━━━━━━━━━━━━━━━━━━━━━━━━━━━━━━━━━━━━━━ </span><span style=\"font-weight: bold\">Step </span><span style=\"color: #008080; text-decoration-color: #008080; font-weight: bold\">1</span><span style=\"color: #d4b702; text-decoration-color: #d4b702\"> ━━━━━━━━━━━━━━━━━━━━━━━━━━━━━━━━━━━━━━━━━━━━━━━━━━━━━━</span>\n",
       "</pre>\n"
      ],
      "text/plain": [
       "\u001b[38;2;212;183;2m━━━━━━━━━━━━━━━━━━━━━━━━━━━━━━━━━━━━━━━━━━━━━━━━━━━━━ \u001b[0m\u001b[1mStep \u001b[0m\u001b[1;36m1\u001b[0m\u001b[38;2;212;183;2m ━━━━━━━━━━━━━━━━━━━━━━━━━━━━━━━━━━━━━━━━━━━━━━━━━━━━━━\u001b[0m\n"
      ]
     },
     "metadata": {},
     "output_type": "display_data"
    },
    {
     "data": {
      "text/html": [
       "<pre style=\"white-space:pre;overflow-x:auto;line-height:normal;font-family:Menlo,'DejaVu Sans Mono',consolas,'Courier New',monospace\"><span style=\"color: #800000; text-decoration-color: #800000; font-weight: bold\">Error while generating output:</span>\n",
       "<span style=\"color: #008080; text-decoration-color: #008080; font-weight: bold\">401</span><span style=\"color: #800000; text-decoration-color: #800000; font-weight: bold\"> Client Error: Unauthorized for url: </span>\n",
       "<span style=\"color: #0000ff; text-decoration-color: #0000ff; text-decoration: underline\">https://router.huggingface.co/hf-inference/models/Qwen/Qwen2.5-Coder-32B-Instruct/v1/chat/completions</span><span style=\"color: #800000; text-decoration-color: #800000; font-weight: bold\"> (Request ID: </span>\n",
       "<span style=\"color: #808000; text-decoration-color: #808000; font-weight: bold\">Root</span><span style=\"color: #800000; text-decoration-color: #800000; font-weight: bold\">=</span><span style=\"color: #008080; text-decoration-color: #008080; font-weight: bold\">1</span><span style=\"color: #800000; text-decoration-color: #800000; font-weight: bold\">-682a1b6e-3ae4c6c31db8f6f00a8a70ef;</span><span style=\"color: #ffff00; text-decoration-color: #ffff00\">734d8c8c-5c2c-47a9-acc7-0c98068da3cd</span><span style=\"color: #800000; text-decoration-color: #800000; font-weight: bold\">)</span>\n",
       "\n",
       "<span style=\"color: #800000; text-decoration-color: #800000; font-weight: bold\">Invalid username or password.</span>\n",
       "</pre>\n"
      ],
      "text/plain": [
       "\u001b[1;31mError while generating output:\u001b[0m\n",
       "\u001b[1;36m401\u001b[0m\u001b[1;31m Client Error: Unauthorized for url: \u001b[0m\n",
       "\u001b[4;94mhttps://router.huggingface.co/hf-inference/models/Qwen/Qwen2.5-Coder-32B-Instruct/v1/chat/completions\u001b[0m\u001b[1;31m \u001b[0m\u001b[1;31m(\u001b[0m\u001b[1;31mRequest ID: \u001b[0m\n",
       "\u001b[1;33mRoot\u001b[0m\u001b[1;31m=\u001b[0m\u001b[1;36m1\u001b[0m\u001b[1;31m-682a1b6e-3ae4c6c31db8f6f00a8a70ef;\u001b[0m\u001b[93m734d8c8c-5c2c-47a9-acc7-0c98068da3cd\u001b[0m\u001b[1;31m)\u001b[0m\n",
       "\n",
       "\u001b[1;31mInvalid username or password.\u001b[0m\n"
      ]
     },
     "metadata": {},
     "output_type": "display_data"
    },
    {
     "data": {
      "text/html": [
       "<pre style=\"white-space:pre;overflow-x:auto;line-height:normal;font-family:Menlo,'DejaVu Sans Mono',consolas,'Courier New',monospace\"><span style=\"color: #7f7f7f; text-decoration-color: #7f7f7f\">[Step 1: Duration 1.62 seconds]</span>\n",
       "</pre>\n"
      ],
      "text/plain": [
       "\u001b[2m[Step 1: Duration 1.62 seconds]\u001b[0m\n"
      ]
     },
     "metadata": {},
     "output_type": "display_data"
    },
    {
     "ename": "AgentGenerationError",
     "evalue": "Error while generating output:\n401 Client Error: Unauthorized for url: https://router.huggingface.co/hf-inference/models/Qwen/Qwen2.5-Coder-32B-Instruct/v1/chat/completions (Request ID: Root=1-682a1b6e-3ae4c6c31db8f6f00a8a70ef;734d8c8c-5c2c-47a9-acc7-0c98068da3cd)\n\nInvalid username or password.",
     "output_type": "error",
     "traceback": [
      "\u001b[0;31m---------------------------------------------------------------------------\u001b[0m",
      "\u001b[0;31mHTTPError\u001b[0m                                 Traceback (most recent call last)",
      "File \u001b[0;32m/usr/local/lib/python3.10/site-packages/huggingface_hub/utils/_http.py:409\u001b[0m, in \u001b[0;36mhf_raise_for_status\u001b[0;34m(response, endpoint_name)\u001b[0m\n\u001b[1;32m    408\u001b[0m \u001b[38;5;28;01mtry\u001b[39;00m:\n\u001b[0;32m--> 409\u001b[0m     \u001b[43mresponse\u001b[49m\u001b[38;5;241;43m.\u001b[39;49m\u001b[43mraise_for_status\u001b[49m\u001b[43m(\u001b[49m\u001b[43m)\u001b[49m\n\u001b[1;32m    410\u001b[0m \u001b[38;5;28;01mexcept\u001b[39;00m HTTPError \u001b[38;5;28;01mas\u001b[39;00m e:\n",
      "File \u001b[0;32m/usr/local/lib/python3.10/site-packages/requests/models.py:1024\u001b[0m, in \u001b[0;36mResponse.raise_for_status\u001b[0;34m(self)\u001b[0m\n\u001b[1;32m   1023\u001b[0m \u001b[38;5;28;01mif\u001b[39;00m http_error_msg:\n\u001b[0;32m-> 1024\u001b[0m     \u001b[38;5;28;01mraise\u001b[39;00m HTTPError(http_error_msg, response\u001b[38;5;241m=\u001b[39m\u001b[38;5;28mself\u001b[39m)\n",
      "\u001b[0;31mHTTPError\u001b[0m: 401 Client Error: Unauthorized for url: https://router.huggingface.co/hf-inference/models/Qwen/Qwen2.5-Coder-32B-Instruct/v1/chat/completions",
      "\nThe above exception was the direct cause of the following exception:\n",
      "\u001b[0;31mHfHubHTTPError\u001b[0m                            Traceback (most recent call last)",
      "File \u001b[0;32m/usr/local/lib/python3.10/site-packages/smolagents/agents.py:1051\u001b[0m, in \u001b[0;36mToolCallingAgent._step_stream\u001b[0;34m(self, memory_step)\u001b[0m\n\u001b[1;32m   1050\u001b[0m \u001b[38;5;28;01mtry\u001b[39;00m:\n\u001b[0;32m-> 1051\u001b[0m     chat_message: ChatMessage \u001b[38;5;241m=\u001b[39m \u001b[38;5;28;43mself\u001b[39;49m\u001b[38;5;241;43m.\u001b[39;49m\u001b[43mmodel\u001b[49m\u001b[43m(\u001b[49m\n\u001b[1;32m   1052\u001b[0m \u001b[43m        \u001b[49m\u001b[43minput_messages\u001b[49m\u001b[43m,\u001b[49m\n\u001b[1;32m   1053\u001b[0m \u001b[43m        \u001b[49m\u001b[43mstop_sequences\u001b[49m\u001b[38;5;241;43m=\u001b[39;49m\u001b[43m[\u001b[49m\u001b[38;5;124;43m\"\u001b[39;49m\u001b[38;5;124;43mObservation:\u001b[39;49m\u001b[38;5;124;43m\"\u001b[39;49m\u001b[43m,\u001b[49m\u001b[43m \u001b[49m\u001b[38;5;124;43m\"\u001b[39;49m\u001b[38;5;124;43mCalling tools:\u001b[39;49m\u001b[38;5;124;43m\"\u001b[39;49m\u001b[43m]\u001b[49m\u001b[43m,\u001b[49m\n\u001b[1;32m   1054\u001b[0m \u001b[43m        \u001b[49m\u001b[43mtools_to_call_from\u001b[49m\u001b[38;5;241;43m=\u001b[39;49m\u001b[38;5;28;43mlist\u001b[39;49m\u001b[43m(\u001b[49m\u001b[38;5;28;43mself\u001b[39;49m\u001b[38;5;241;43m.\u001b[39;49m\u001b[43mtools\u001b[49m\u001b[38;5;241;43m.\u001b[39;49m\u001b[43mvalues\u001b[49m\u001b[43m(\u001b[49m\u001b[43m)\u001b[49m\u001b[43m)\u001b[49m\u001b[43m,\u001b[49m\n\u001b[1;32m   1055\u001b[0m \u001b[43m    \u001b[49m\u001b[43m)\u001b[49m\n\u001b[1;32m   1056\u001b[0m     memory_step\u001b[38;5;241m.\u001b[39mmodel_output_message \u001b[38;5;241m=\u001b[39m chat_message\n",
      "File \u001b[0;32m/usr/local/lib/python3.10/site-packages/smolagents/models.py:398\u001b[0m, in \u001b[0;36mModel.__call__\u001b[0;34m(self, *args, **kwargs)\u001b[0m\n\u001b[1;32m    397\u001b[0m \u001b[38;5;28;01mdef\u001b[39;00m\u001b[38;5;250m \u001b[39m\u001b[38;5;21m__call__\u001b[39m(\u001b[38;5;28mself\u001b[39m, \u001b[38;5;241m*\u001b[39margs, \u001b[38;5;241m*\u001b[39m\u001b[38;5;241m*\u001b[39mkwargs):\n\u001b[0;32m--> 398\u001b[0m     \u001b[38;5;28;01mreturn\u001b[39;00m \u001b[38;5;28;43mself\u001b[39;49m\u001b[38;5;241;43m.\u001b[39;49m\u001b[43mgenerate\u001b[49m\u001b[43m(\u001b[49m\u001b[38;5;241;43m*\u001b[39;49m\u001b[43margs\u001b[49m\u001b[43m,\u001b[49m\u001b[43m \u001b[49m\u001b[38;5;241;43m*\u001b[39;49m\u001b[38;5;241;43m*\u001b[39;49m\u001b[43mkwargs\u001b[49m\u001b[43m)\u001b[49m\n",
      "File \u001b[0;32m/usr/local/lib/python3.10/site-packages/smolagents/models.py:1281\u001b[0m, in \u001b[0;36mInferenceClientModel.generate\u001b[0;34m(self, messages, stop_sequences, grammar, tools_to_call_from, **kwargs)\u001b[0m\n\u001b[1;32m   1272\u001b[0m completion_kwargs \u001b[38;5;241m=\u001b[39m \u001b[38;5;28mself\u001b[39m\u001b[38;5;241m.\u001b[39m_prepare_completion_kwargs(\n\u001b[1;32m   1273\u001b[0m     messages\u001b[38;5;241m=\u001b[39mmessages,\n\u001b[1;32m   1274\u001b[0m     stop_sequences\u001b[38;5;241m=\u001b[39mstop_sequences,\n\u001b[0;32m   (...)\u001b[0m\n\u001b[1;32m   1279\u001b[0m     \u001b[38;5;241m*\u001b[39m\u001b[38;5;241m*\u001b[39mkwargs,\n\u001b[1;32m   1280\u001b[0m )\n\u001b[0;32m-> 1281\u001b[0m response \u001b[38;5;241m=\u001b[39m \u001b[38;5;28;43mself\u001b[39;49m\u001b[38;5;241;43m.\u001b[39;49m\u001b[43mclient\u001b[49m\u001b[38;5;241;43m.\u001b[39;49m\u001b[43mchat_completion\u001b[49m\u001b[43m(\u001b[49m\u001b[38;5;241;43m*\u001b[39;49m\u001b[38;5;241;43m*\u001b[39;49m\u001b[43mcompletion_kwargs\u001b[49m\u001b[43m)\u001b[49m\n\u001b[1;32m   1283\u001b[0m \u001b[38;5;28mself\u001b[39m\u001b[38;5;241m.\u001b[39mlast_input_token_count \u001b[38;5;241m=\u001b[39m response\u001b[38;5;241m.\u001b[39musage\u001b[38;5;241m.\u001b[39mprompt_tokens\n",
      "File \u001b[0;32m/usr/local/lib/python3.10/site-packages/huggingface_hub/inference/_client.py:923\u001b[0m, in \u001b[0;36mInferenceClient.chat_completion\u001b[0;34m(self, messages, model, stream, frequency_penalty, logit_bias, logprobs, max_tokens, n, presence_penalty, response_format, seed, stop, stream_options, temperature, tool_choice, tool_prompt, tools, top_logprobs, top_p, extra_body)\u001b[0m\n\u001b[1;32m    916\u001b[0m request_parameters \u001b[38;5;241m=\u001b[39m provider_helper\u001b[38;5;241m.\u001b[39mprepare_request(\n\u001b[1;32m    917\u001b[0m     inputs\u001b[38;5;241m=\u001b[39mmessages,\n\u001b[1;32m    918\u001b[0m     parameters\u001b[38;5;241m=\u001b[39mparameters,\n\u001b[0;32m   (...)\u001b[0m\n\u001b[1;32m    921\u001b[0m     api_key\u001b[38;5;241m=\u001b[39m\u001b[38;5;28mself\u001b[39m\u001b[38;5;241m.\u001b[39mtoken,\n\u001b[1;32m    922\u001b[0m )\n\u001b[0;32m--> 923\u001b[0m data \u001b[38;5;241m=\u001b[39m \u001b[38;5;28;43mself\u001b[39;49m\u001b[38;5;241;43m.\u001b[39;49m\u001b[43m_inner_post\u001b[49m\u001b[43m(\u001b[49m\u001b[43mrequest_parameters\u001b[49m\u001b[43m,\u001b[49m\u001b[43m \u001b[49m\u001b[43mstream\u001b[49m\u001b[38;5;241;43m=\u001b[39;49m\u001b[43mstream\u001b[49m\u001b[43m)\u001b[49m\n\u001b[1;32m    925\u001b[0m \u001b[38;5;28;01mif\u001b[39;00m stream:\n",
      "File \u001b[0;32m/usr/local/lib/python3.10/site-packages/huggingface_hub/inference/_client.py:279\u001b[0m, in \u001b[0;36mInferenceClient._inner_post\u001b[0;34m(self, request_parameters, stream)\u001b[0m\n\u001b[1;32m    278\u001b[0m \u001b[38;5;28;01mtry\u001b[39;00m:\n\u001b[0;32m--> 279\u001b[0m     \u001b[43mhf_raise_for_status\u001b[49m\u001b[43m(\u001b[49m\u001b[43mresponse\u001b[49m\u001b[43m)\u001b[49m\n\u001b[1;32m    280\u001b[0m     \u001b[38;5;28;01mreturn\u001b[39;00m response\u001b[38;5;241m.\u001b[39miter_lines() \u001b[38;5;28;01mif\u001b[39;00m stream \u001b[38;5;28;01melse\u001b[39;00m response\u001b[38;5;241m.\u001b[39mcontent\n",
      "File \u001b[0;32m/usr/local/lib/python3.10/site-packages/huggingface_hub/utils/_http.py:482\u001b[0m, in \u001b[0;36mhf_raise_for_status\u001b[0;34m(response, endpoint_name)\u001b[0m\n\u001b[1;32m    480\u001b[0m \u001b[38;5;66;03m# Convert `HTTPError` into a `HfHubHTTPError` to display request information\u001b[39;00m\n\u001b[1;32m    481\u001b[0m \u001b[38;5;66;03m# as well (request id and/or server error message)\u001b[39;00m\n\u001b[0;32m--> 482\u001b[0m \u001b[38;5;28;01mraise\u001b[39;00m _format(HfHubHTTPError, \u001b[38;5;28mstr\u001b[39m(e), response) \u001b[38;5;28;01mfrom\u001b[39;00m\u001b[38;5;250m \u001b[39m\u001b[38;5;21;01me\u001b[39;00m\n",
      "\u001b[0;31mHfHubHTTPError\u001b[0m: 401 Client Error: Unauthorized for url: https://router.huggingface.co/hf-inference/models/Qwen/Qwen2.5-Coder-32B-Instruct/v1/chat/completions (Request ID: Root=1-682a1b6e-3ae4c6c31db8f6f00a8a70ef;734d8c8c-5c2c-47a9-acc7-0c98068da3cd)\n\nInvalid username or password.",
      "\nThe above exception was the direct cause of the following exception:\n",
      "\u001b[0;31mAgentGenerationError\u001b[0m                      Traceback (most recent call last)",
      "Cell \u001b[0;32mIn[3], line 5\u001b[0m\n\u001b[1;32m      1\u001b[0m \u001b[38;5;28;01mfrom\u001b[39;00m\u001b[38;5;250m \u001b[39m\u001b[38;5;21;01msmolagents\u001b[39;00m\u001b[38;5;250m \u001b[39m\u001b[38;5;28;01mimport\u001b[39;00m ToolCallingAgent, DuckDuckGoSearchTool, InferenceClientModel\n\u001b[1;32m      3\u001b[0m agent \u001b[38;5;241m=\u001b[39m ToolCallingAgent(tools\u001b[38;5;241m=\u001b[39m[DuckDuckGoSearchTool()], model\u001b[38;5;241m=\u001b[39mInferenceClientModel())\n\u001b[0;32m----> 5\u001b[0m \u001b[43magent\u001b[49m\u001b[38;5;241;43m.\u001b[39;49m\u001b[43mrun\u001b[49m\u001b[43m(\u001b[49m\u001b[38;5;124;43m\"\u001b[39;49m\u001b[38;5;124;43mSearch for the best music recommendations for a party at the Wayne\u001b[39;49m\u001b[38;5;124;43m'\u001b[39;49m\u001b[38;5;124;43ms mansion.\u001b[39;49m\u001b[38;5;124;43m\"\u001b[39;49m\u001b[43m)\u001b[49m\n",
      "File \u001b[0;32m/usr/local/lib/python3.10/site-packages/smolagents/agents.py:351\u001b[0m, in \u001b[0;36mMultiStepAgent.run\u001b[0;34m(self, task, stream, reset, images, additional_args, max_steps)\u001b[0m\n\u001b[1;32m    349\u001b[0m     \u001b[38;5;28;01mreturn\u001b[39;00m \u001b[38;5;28mself\u001b[39m\u001b[38;5;241m.\u001b[39m_run_stream(task\u001b[38;5;241m=\u001b[39m\u001b[38;5;28mself\u001b[39m\u001b[38;5;241m.\u001b[39mtask, max_steps\u001b[38;5;241m=\u001b[39mmax_steps, images\u001b[38;5;241m=\u001b[39mimages)\n\u001b[1;32m    350\u001b[0m \u001b[38;5;66;03m# Outputs are returned only at the end. We only look at the last step.\u001b[39;00m\n\u001b[0;32m--> 351\u001b[0m \u001b[38;5;28;01mreturn\u001b[39;00m \u001b[38;5;28;43mlist\u001b[39;49m\u001b[43m(\u001b[49m\u001b[38;5;28;43mself\u001b[39;49m\u001b[38;5;241;43m.\u001b[39;49m\u001b[43m_run_stream\u001b[49m\u001b[43m(\u001b[49m\u001b[43mtask\u001b[49m\u001b[38;5;241;43m=\u001b[39;49m\u001b[38;5;28;43mself\u001b[39;49m\u001b[38;5;241;43m.\u001b[39;49m\u001b[43mtask\u001b[49m\u001b[43m,\u001b[49m\u001b[43m \u001b[49m\u001b[43mmax_steps\u001b[49m\u001b[38;5;241;43m=\u001b[39;49m\u001b[43mmax_steps\u001b[49m\u001b[43m,\u001b[49m\u001b[43m \u001b[49m\u001b[43mimages\u001b[49m\u001b[38;5;241;43m=\u001b[39;49m\u001b[43mimages\u001b[49m\u001b[43m)\u001b[49m\u001b[43m)\u001b[49m[\u001b[38;5;241m-\u001b[39m\u001b[38;5;241m1\u001b[39m]\u001b[38;5;241m.\u001b[39mfinal_answer\n",
      "File \u001b[0;32m/usr/local/lib/python3.10/site-packages/smolagents/agents.py:379\u001b[0m, in \u001b[0;36mMultiStepAgent._run_stream\u001b[0;34m(self, task, max_steps, images)\u001b[0m\n\u001b[1;32m    376\u001b[0m     final_answer \u001b[38;5;241m=\u001b[39m el\n\u001b[1;32m    377\u001b[0m \u001b[38;5;28;01mexcept\u001b[39;00m AgentGenerationError \u001b[38;5;28;01mas\u001b[39;00m e:\n\u001b[1;32m    378\u001b[0m     \u001b[38;5;66;03m# Agent generation errors are not caused by a Model error but an implementation error: so we should raise them and exit.\u001b[39;00m\n\u001b[0;32m--> 379\u001b[0m     \u001b[38;5;28;01mraise\u001b[39;00m e\n\u001b[1;32m    380\u001b[0m \u001b[38;5;28;01mexcept\u001b[39;00m AgentError \u001b[38;5;28;01mas\u001b[39;00m e:\n\u001b[1;32m    381\u001b[0m     \u001b[38;5;66;03m# Other AgentError types are caused by the Model, so we should log them and iterate.\u001b[39;00m\n\u001b[1;32m    382\u001b[0m     action_step\u001b[38;5;241m.\u001b[39merror \u001b[38;5;241m=\u001b[39m e\n",
      "File \u001b[0;32m/usr/local/lib/python3.10/site-packages/smolagents/agents.py:374\u001b[0m, in \u001b[0;36mMultiStepAgent._run_stream\u001b[0;34m(self, task, max_steps, images)\u001b[0m\n\u001b[1;32m    370\u001b[0m action_step \u001b[38;5;241m=\u001b[39m ActionStep(\n\u001b[1;32m    371\u001b[0m     step_number\u001b[38;5;241m=\u001b[39m\u001b[38;5;28mself\u001b[39m\u001b[38;5;241m.\u001b[39mstep_number, start_time\u001b[38;5;241m=\u001b[39mstep_start_time, observations_images\u001b[38;5;241m=\u001b[39mimages\n\u001b[1;32m    372\u001b[0m )\n\u001b[1;32m    373\u001b[0m \u001b[38;5;28;01mtry\u001b[39;00m:\n\u001b[0;32m--> 374\u001b[0m     \u001b[38;5;28;01mfor\u001b[39;00m el \u001b[38;5;129;01min\u001b[39;00m \u001b[38;5;28mself\u001b[39m\u001b[38;5;241m.\u001b[39m_execute_step(action_step):\n\u001b[1;32m    375\u001b[0m         \u001b[38;5;28;01myield\u001b[39;00m el\n\u001b[1;32m    376\u001b[0m     final_answer \u001b[38;5;241m=\u001b[39m el\n",
      "File \u001b[0;32m/usr/local/lib/python3.10/site-packages/smolagents/agents.py:397\u001b[0m, in \u001b[0;36mMultiStepAgent._execute_step\u001b[0;34m(self, memory_step)\u001b[0m\n\u001b[1;32m    395\u001b[0m \u001b[38;5;28mself\u001b[39m\u001b[38;5;241m.\u001b[39mlogger\u001b[38;5;241m.\u001b[39mlog_rule(\u001b[38;5;124mf\u001b[39m\u001b[38;5;124m\"\u001b[39m\u001b[38;5;124mStep \u001b[39m\u001b[38;5;132;01m{\u001b[39;00m\u001b[38;5;28mself\u001b[39m\u001b[38;5;241m.\u001b[39mstep_number\u001b[38;5;132;01m}\u001b[39;00m\u001b[38;5;124m\"\u001b[39m, level\u001b[38;5;241m=\u001b[39mLogLevel\u001b[38;5;241m.\u001b[39mINFO)\n\u001b[1;32m    396\u001b[0m final_answer \u001b[38;5;241m=\u001b[39m \u001b[38;5;28;01mNone\u001b[39;00m\n\u001b[0;32m--> 397\u001b[0m \u001b[38;5;28;01mfor\u001b[39;00m el \u001b[38;5;129;01min\u001b[39;00m \u001b[38;5;28mself\u001b[39m\u001b[38;5;241m.\u001b[39m_step_stream(memory_step):\n\u001b[1;32m    398\u001b[0m     final_answer \u001b[38;5;241m=\u001b[39m el\n\u001b[1;32m    399\u001b[0m     \u001b[38;5;28;01myield\u001b[39;00m el\n",
      "File \u001b[0;32m/usr/local/lib/python3.10/site-packages/smolagents/agents.py:1067\u001b[0m, in \u001b[0;36mToolCallingAgent._step_stream\u001b[0;34m(self, memory_step)\u001b[0m\n\u001b[1;32m   1065\u001b[0m     memory_step\u001b[38;5;241m.\u001b[39mmodel_output \u001b[38;5;241m=\u001b[39m model_output\n\u001b[1;32m   1066\u001b[0m \u001b[38;5;28;01mexcept\u001b[39;00m \u001b[38;5;167;01mException\u001b[39;00m \u001b[38;5;28;01mas\u001b[39;00m e:\n\u001b[0;32m-> 1067\u001b[0m     \u001b[38;5;28;01mraise\u001b[39;00m AgentGenerationError(\u001b[38;5;124mf\u001b[39m\u001b[38;5;124m\"\u001b[39m\u001b[38;5;124mError while generating output:\u001b[39m\u001b[38;5;130;01m\\n\u001b[39;00m\u001b[38;5;132;01m{\u001b[39;00me\u001b[38;5;132;01m}\u001b[39;00m\u001b[38;5;124m\"\u001b[39m, \u001b[38;5;28mself\u001b[39m\u001b[38;5;241m.\u001b[39mlogger) \u001b[38;5;28;01mfrom\u001b[39;00m\u001b[38;5;250m \u001b[39m\u001b[38;5;21;01me\u001b[39;00m\n\u001b[1;32m   1069\u001b[0m \u001b[38;5;28;01mif\u001b[39;00m chat_message\u001b[38;5;241m.\u001b[39mtool_calls \u001b[38;5;129;01mis\u001b[39;00m \u001b[38;5;28;01mNone\u001b[39;00m \u001b[38;5;129;01mor\u001b[39;00m \u001b[38;5;28mlen\u001b[39m(chat_message\u001b[38;5;241m.\u001b[39mtool_calls) \u001b[38;5;241m==\u001b[39m \u001b[38;5;241m0\u001b[39m:\n\u001b[1;32m   1070\u001b[0m     \u001b[38;5;28;01mtry\u001b[39;00m:\n",
      "\u001b[0;31mAgentGenerationError\u001b[0m: Error while generating output:\n401 Client Error: Unauthorized for url: https://router.huggingface.co/hf-inference/models/Qwen/Qwen2.5-Coder-32B-Instruct/v1/chat/completions (Request ID: Root=1-682a1b6e-3ae4c6c31db8f6f00a8a70ef;734d8c8c-5c2c-47a9-acc7-0c98068da3cd)\n\nInvalid username or password."
     ]
    }
   ],
   "source": [
    "from smolagents import ToolCallingAgent, DuckDuckGoSearchTool, InferenceClientModel\n",
    "\n",
    "agent = ToolCallingAgent(tools=[DuckDuckGoSearchTool()], model=InferenceClientModel())\n",
    "\n",
    "agent.run(\"Search for the best music recommendations for a party at the Wayne's mansion.\")"
   ]
  },
  {
   "cell_type": "code",
   "execution_count": 5,
   "id": "930b446a-99a5-4f15-9eed-2deaf58b7153",
   "metadata": {},
   "outputs": [],
   "source": [
    "import os\n",
    "# os.environ[\"HF_TOKEN\"] = \"\""
   ]
  },
  {
   "cell_type": "code",
   "execution_count": 6,
   "id": "3a7df104-1578-4aab-9001-170c7a8c0c0b",
   "metadata": {},
   "outputs": [
    {
     "data": {
      "text/html": [
       "<pre style=\"white-space:pre;overflow-x:auto;line-height:normal;font-family:Menlo,'DejaVu Sans Mono',consolas,'Courier New',monospace\"><span style=\"color: #d4b702; text-decoration-color: #d4b702\">╭──────────────────────────────────────────────────── </span><span style=\"color: #d4b702; text-decoration-color: #d4b702; font-weight: bold\">New run</span><span style=\"color: #d4b702; text-decoration-color: #d4b702\"> ────────────────────────────────────────────────────╮</span>\n",
       "<span style=\"color: #d4b702; text-decoration-color: #d4b702\">│</span>                                                                                                                 <span style=\"color: #d4b702; text-decoration-color: #d4b702\">│</span>\n",
       "<span style=\"color: #d4b702; text-decoration-color: #d4b702\">│</span> <span style=\"font-weight: bold\">Search for the best music recommendations for a party at the Wayne's mansion.</span>                                   <span style=\"color: #d4b702; text-decoration-color: #d4b702\">│</span>\n",
       "<span style=\"color: #d4b702; text-decoration-color: #d4b702\">│</span>                                                                                                                 <span style=\"color: #d4b702; text-decoration-color: #d4b702\">│</span>\n",
       "<span style=\"color: #d4b702; text-decoration-color: #d4b702\">╰─ InferenceClientModel - Qwen/Qwen2.5-Coder-32B-Instruct ────────────────────────────────────────────────────────╯</span>\n",
       "</pre>\n"
      ],
      "text/plain": [
       "\u001b[38;2;212;183;2m╭─\u001b[0m\u001b[38;2;212;183;2m───────────────────────────────────────────────────\u001b[0m\u001b[38;2;212;183;2m \u001b[0m\u001b[1;38;2;212;183;2mNew run\u001b[0m\u001b[38;2;212;183;2m \u001b[0m\u001b[38;2;212;183;2m───────────────────────────────────────────────────\u001b[0m\u001b[38;2;212;183;2m─╮\u001b[0m\n",
       "\u001b[38;2;212;183;2m│\u001b[0m                                                                                                                 \u001b[38;2;212;183;2m│\u001b[0m\n",
       "\u001b[38;2;212;183;2m│\u001b[0m \u001b[1mSearch for the best music recommendations for a party at the Wayne's mansion.\u001b[0m                                   \u001b[38;2;212;183;2m│\u001b[0m\n",
       "\u001b[38;2;212;183;2m│\u001b[0m                                                                                                                 \u001b[38;2;212;183;2m│\u001b[0m\n",
       "\u001b[38;2;212;183;2m╰─\u001b[0m\u001b[38;2;212;183;2m InferenceClientModel - Qwen/Qwen2.5-Coder-32B-Instruct \u001b[0m\u001b[38;2;212;183;2m───────────────────────────────────────────────────────\u001b[0m\u001b[38;2;212;183;2m─╯\u001b[0m\n"
      ]
     },
     "metadata": {},
     "output_type": "display_data"
    },
    {
     "data": {
      "text/html": [
       "<pre style=\"white-space:pre;overflow-x:auto;line-height:normal;font-family:Menlo,'DejaVu Sans Mono',consolas,'Courier New',monospace\"><span style=\"color: #d4b702; text-decoration-color: #d4b702\">━━━━━━━━━━━━━━━━━━━━━━━━━━━━━━━━━━━━━━━━━━━━━━━━━━━━━ </span><span style=\"font-weight: bold\">Step </span><span style=\"color: #008080; text-decoration-color: #008080; font-weight: bold\">1</span><span style=\"color: #d4b702; text-decoration-color: #d4b702\"> ━━━━━━━━━━━━━━━━━━━━━━━━━━━━━━━━━━━━━━━━━━━━━━━━━━━━━━</span>\n",
       "</pre>\n"
      ],
      "text/plain": [
       "\u001b[38;2;212;183;2m━━━━━━━━━━━━━━━━━━━━━━━━━━━━━━━━━━━━━━━━━━━━━━━━━━━━━ \u001b[0m\u001b[1mStep \u001b[0m\u001b[1;36m1\u001b[0m\u001b[38;2;212;183;2m ━━━━━━━━━━━━━━━━━━━━━━━━━━━━━━━━━━━━━━━━━━━━━━━━━━━━━━\u001b[0m\n"
      ]
     },
     "metadata": {},
     "output_type": "display_data"
    },
    {
     "data": {
      "text/html": [
       "<pre style=\"white-space:pre;overflow-x:auto;line-height:normal;font-family:Menlo,'DejaVu Sans Mono',consolas,'Courier New',monospace\">╭─────────────────────────────────────────────────────────────────────────────────────────────────────────────────╮\n",
       "│ Calling tool: 'web_search' with arguments: {'query': \"best music recommendations for a party at Wayne's         │\n",
       "│ mansion\"}                                                                                                       │\n",
       "╰─────────────────────────────────────────────────────────────────────────────────────────────────────────────────╯\n",
       "</pre>\n"
      ],
      "text/plain": [
       "╭─────────────────────────────────────────────────────────────────────────────────────────────────────────────────╮\n",
       "│ Calling tool: 'web_search' with arguments: {'query': \"best music recommendations for a party at Wayne's         │\n",
       "│ mansion\"}                                                                                                       │\n",
       "╰─────────────────────────────────────────────────────────────────────────────────────────────────────────────────╯\n"
      ]
     },
     "metadata": {},
     "output_type": "display_data"
    },
    {
     "data": {
      "text/html": [
       "<pre style=\"white-space:pre;overflow-x:auto;line-height:normal;font-family:Menlo,'DejaVu Sans Mono',consolas,'Courier New',monospace\">Observations: ## Search Results\n",
       "\n",
       "|The <span style=\"color: #008080; text-decoration-color: #008080; font-weight: bold\">75</span> Best Party Songs That Will Get Everyone Dancing - \n",
       "Gear4music<span style=\"font-weight: bold\">](</span><span style=\"color: #0000ff; text-decoration-color: #0000ff; text-decoration: underline\">https://www.gear4music.com/blog/best-party-songs/)</span>\n",
       "The best party songs <span style=\"color: #008080; text-decoration-color: #008080; font-weight: bold\">1</span>. <span style=\"color: #008000; text-decoration-color: #008000\">\"September\"</span> - Earth, Wind &amp; Fire <span style=\"font-weight: bold\">(</span><span style=\"color: #008080; text-decoration-color: #008080; font-weight: bold\">1978</span><span style=\"font-weight: bold\">)</span> Quite possibly the best party song. An infectious \n",
       "mix of funk and soul, <span style=\"color: #008000; text-decoration-color: #008000\">\"September\"</span> is celebrated for its upbeat melody and <span style=\"color: #008000; text-decoration-color: #008000\">\"ba-dee-ya\"</span> chorus, making it a timeless \n",
       "dance favorite.\n",
       "\n",
       "|late nights in the wayne manor | a bruce wayne rock/blues playlist<span style=\"font-weight: bold\">](</span><span style=\"color: #0000ff; text-decoration-color: #0000ff; text-decoration: underline\">https://www.youtube.com/watch?v=oOdHCjj3jn4)</span>\n",
       "these are songs that bruce wayne listens to while wandering the halls of the great wayne manor.find this playlist \n",
       "on my spotify: <span style=\"color: #0000ff; text-decoration-color: #0000ff; text-decoration: underline\">https://open.spotify.com/use...</span>\n",
       "\n",
       "|Best Songs To Party: DJ's Ultimate Party Songs Playlist - \n",
       "Top40Weekly.com<span style=\"font-weight: bold\">](</span><span style=\"color: #0000ff; text-decoration-color: #0000ff; text-decoration: underline\">https://top40weekly.com/best-songs-to-party/)</span>\n",
       "If you're looking for the ultimate playlist to get your party started, look no further than this best party songs \n",
       "playlist. Whether you're hosting a birthday bash, a backyard barbecue, or just a night in with friends, the right \n",
       "music can make all the difference. From classic hits to modern bangers, we've compiled a list of the best songs <span style=\"color: #808000; text-decoration-color: #808000\">...</span>\n",
       "\n",
       "|<span style=\"color: #008080; text-decoration-color: #008080; font-weight: bold\">50</span> Songs on Every Event Planner's Playlist - \n",
       "Eventbrite<span style=\"font-weight: bold\">](</span><span style=\"color: #0000ff; text-decoration-color: #0000ff; text-decoration: underline\">https://www.eventbrite.com/blog/event-planning-playlist-ds00/)</span>\n",
       "Music sets the mood and provides the soundtrack <span style=\"font-weight: bold\">(</span>literally<span style=\"font-weight: bold\">)</span> for a memorable and exciting time. While the right \n",
       "songs can enhance the experience, the wrong event music can throw off the vibe. For example, fast-paced songs \n",
       "probably aren't the best fit for a formal gala. And smooth jazz is likely to lull your guests at a motivational \n",
       "conference.\n",
       "\n",
       "|<span style=\"color: #008080; text-decoration-color: #008080; font-weight: bold\">40</span> Best Party Songs | Songs To Dance To, Ranked By Our Editors - Time \n",
       "Out<span style=\"font-weight: bold\">](</span><span style=\"color: #0000ff; text-decoration-color: #0000ff; text-decoration: underline\">https://www.timeout.com/music/best-party-songs)</span>\n",
       "The <span style=\"color: #008080; text-decoration-color: #008080; font-weight: bold\">40</span> best party songs ever made. It's party time guys - don your dancing shoes and have your speaker at the \n",
       "ready. Monday <span style=\"color: #008080; text-decoration-color: #008080; font-weight: bold\">12</span> May <span style=\"color: #008080; text-decoration-color: #008080; font-weight: bold\">2025</span>. Share. Copy Link. Facebook Twitter Pinterest Email <span style=\"color: #808000; text-decoration-color: #808000\">...</span>\n",
       "\n",
       "|<span style=\"color: #008080; text-decoration-color: #008080; font-weight: bold\">200</span> Classic House Party Songs Everyone Knows | The Best <span style=\"color: #808000; text-decoration-color: #808000\">...</span> - \n",
       "iSpyTunes<span style=\"font-weight: bold\">](</span><span style=\"color: #0000ff; text-decoration-color: #0000ff; text-decoration: underline\">https://www.ispytunes.com/post/house-party-songs)</span>\n",
       "Next, let's get into reviewing <span style=\"color: #008080; text-decoration-color: #008080; font-weight: bold\">20</span> of the best songs for your next house party. <span style=\"color: #008080; text-decoration-color: #008080; font-weight: bold\">1</span>. rockstar by Post Malone <span style=\"font-weight: bold\">(</span>feat. <span style=\"color: #008080; text-decoration-color: #008080; font-weight: bold\">21</span>\n",
       "Savage<span style=\"font-weight: bold\">)</span> <span style=\"color: #008000; text-decoration-color: #008000\">\"rockstar\"</span> by Post Malone <span style=\"font-weight: bold\">(</span>feat. <span style=\"color: #008080; text-decoration-color: #008080; font-weight: bold\">21</span> Savage<span style=\"font-weight: bold\">)</span> is an incredibly popular song with a great instrumental and an \n",
       "infectious chorus, which makes it a perfect song for playing at parties. The whole song is like a giant energy <span style=\"color: #808000; text-decoration-color: #808000\">...</span>\n",
       "\n",
       "|late nights in the wayne manor - YouTube Music<span style=\"font-weight: bold\">](</span><span style=\"color: #0000ff; text-decoration-color: #0000ff; text-decoration: underline\">https://music.youtube.com/watch?v=oOdHCjj3jn4)</span>\n",
       "these are songs that bruce wayne listens to while wandering the halls of the great wayne manor. find this playlist \n",
       "on my spotify: <span style=\"color: #0000ff; text-decoration-color: #0000ff; text-decoration: underline\">https://open.spotify.com/u...</span>\n",
       "\n",
       "|The Best Songs For Parties - The Ambient Mixer \n",
       "Blog<span style=\"font-weight: bold\">](</span><span style=\"color: #0000ff; text-decoration-color: #0000ff; text-decoration: underline\">https://blog.ambient-mixer.com/usage/parties-2/the-best-songs-for-parties/)</span>\n",
       "The <span style=\"color: #008080; text-decoration-color: #008080; font-weight: bold\">100</span> best party songs ever made. Top <span style=\"color: #008080; text-decoration-color: #008080; font-weight: bold\">100</span> Best Party Songs Of All Time. Of course, these are just <span style=\"color: #008080; text-decoration-color: #008080; font-weight: bold\">2</span> of the many \n",
       "available playlists to choose from. However, these two contain some of the most popular ones most people usually \n",
       "end up using. If these are not the type of songs you or your guests might enjoy then simply follow the steps in the\n",
       "<span style=\"color: #808000; text-decoration-color: #808000\">...</span>\n",
       "\n",
       "|Party Music Guide: Ultimate Tips for the Perfect \n",
       "Playlist<span style=\"font-weight: bold\">](</span><span style=\"color: #0000ff; text-decoration-color: #0000ff; text-decoration: underline\">https://thebackstage-deezer.com/music/perfect-party-music-playlist/)</span>\n",
       "Check out the best party playlists and top party songs to ensure your next party is packed! The most popular party \n",
       "songs are here, just hit play. <span style=\"color: #808000; text-decoration-color: #808000\">...</span> to decor. But, most of all, you need to have fantastic music. We recommend you \n",
       "get at least three hours' worth of party music queued and ready — that's about <span style=\"color: #008080; text-decoration-color: #008080; font-weight: bold\">75</span> songs. Lucky for you, we've <span style=\"color: #808000; text-decoration-color: #808000\">...</span>\n",
       "\n",
       "|The Perfect Music for Your Party - She Keeps a Lovely \n",
       "Home<span style=\"font-weight: bold\">](</span><span style=\"color: #0000ff; text-decoration-color: #0000ff; text-decoration: underline\">https://www.shekeepsalovelyhome.com/perfect-party-music/)</span>\n",
       "For More Classically Refined Tastes. Baroque Radio - Think extra fancy, pinky-up dinner/cocktail party or high tea.\n",
       "It's the only Pandora station you need for Classical. Believe me. No matter how divine Mozart's piano concerto <span style=\"color: #008080; text-decoration-color: #008080; font-weight: bold\">21</span> \n",
       "in C minor, or Beethoven's moonlight sonata - if you try to make a radio out of these guys, Gustaf Holst's <span style=\"color: #008000; text-decoration-color: #008000\">\"Mars\"</span> \n",
       "will eventually make an appearance <span style=\"color: #808000; text-decoration-color: #808000\">...</span>\n",
       "</pre>\n"
      ],
      "text/plain": [
       "Observations: ## Search Results\n",
       "\n",
       "|The \u001b[1;36m75\u001b[0m Best Party Songs That Will Get Everyone Dancing - \n",
       "Gear4music\u001b[1m]\u001b[0m\u001b[1m(\u001b[0m\u001b[4;94mhttps://www.gear4music.com/blog/best-party-songs/\u001b[0m\u001b[4;94m)\u001b[0m\n",
       "The best party songs \u001b[1;36m1\u001b[0m. \u001b[32m\"September\"\u001b[0m - Earth, Wind & Fire \u001b[1m(\u001b[0m\u001b[1;36m1978\u001b[0m\u001b[1m)\u001b[0m Quite possibly the best party song. An infectious \n",
       "mix of funk and soul, \u001b[32m\"September\"\u001b[0m is celebrated for its upbeat melody and \u001b[32m\"ba-dee-ya\"\u001b[0m chorus, making it a timeless \n",
       "dance favorite.\n",
       "\n",
       "|late nights in the wayne manor | a bruce wayne rock/blues playlist\u001b[1m]\u001b[0m\u001b[1m(\u001b[0m\u001b[4;94mhttps://www.youtube.com/watch?\u001b[0m\u001b[4;94mv\u001b[0m\u001b[4;94m=\u001b[0m\u001b[4;94moOdHCjj3jn4\u001b[0m\u001b[4;94m)\u001b[0m\n",
       "these are songs that bruce wayne listens to while wandering the halls of the great wayne manor.find this playlist \n",
       "on my spotify: \u001b[4;94mhttps://open.spotify.com/use...\u001b[0m\n",
       "\n",
       "|Best Songs To Party: DJ's Ultimate Party Songs Playlist - \n",
       "Top40Weekly.com\u001b[1m]\u001b[0m\u001b[1m(\u001b[0m\u001b[4;94mhttps://top40weekly.com/best-songs-to-party/\u001b[0m\u001b[4;94m)\u001b[0m\n",
       "If you're looking for the ultimate playlist to get your party started, look no further than this best party songs \n",
       "playlist. Whether you're hosting a birthday bash, a backyard barbecue, or just a night in with friends, the right \n",
       "music can make all the difference. From classic hits to modern bangers, we've compiled a list of the best songs \u001b[33m...\u001b[0m\n",
       "\n",
       "|\u001b[1;36m50\u001b[0m Songs on Every Event Planner's Playlist - \n",
       "Eventbrite\u001b[1m]\u001b[0m\u001b[1m(\u001b[0m\u001b[4;94mhttps://www.eventbrite.com/blog/event-planning-playlist-ds00/\u001b[0m\u001b[4;94m)\u001b[0m\n",
       "Music sets the mood and provides the soundtrack \u001b[1m(\u001b[0mliterally\u001b[1m)\u001b[0m for a memorable and exciting time. While the right \n",
       "songs can enhance the experience, the wrong event music can throw off the vibe. For example, fast-paced songs \n",
       "probably aren't the best fit for a formal gala. And smooth jazz is likely to lull your guests at a motivational \n",
       "conference.\n",
       "\n",
       "|\u001b[1;36m40\u001b[0m Best Party Songs | Songs To Dance To, Ranked By Our Editors - Time \n",
       "Out\u001b[1m]\u001b[0m\u001b[1m(\u001b[0m\u001b[4;94mhttps://www.timeout.com/music/best-party-songs\u001b[0m\u001b[4;94m)\u001b[0m\n",
       "The \u001b[1;36m40\u001b[0m best party songs ever made. It's party time guys - don your dancing shoes and have your speaker at the \n",
       "ready. Monday \u001b[1;36m12\u001b[0m May \u001b[1;36m2025\u001b[0m. Share. Copy Link. Facebook Twitter Pinterest Email \u001b[33m...\u001b[0m\n",
       "\n",
       "|\u001b[1;36m200\u001b[0m Classic House Party Songs Everyone Knows | The Best \u001b[33m...\u001b[0m - \n",
       "iSpyTunes\u001b[1m]\u001b[0m\u001b[1m(\u001b[0m\u001b[4;94mhttps://www.ispytunes.com/post/house-party-songs\u001b[0m\u001b[4;94m)\u001b[0m\n",
       "Next, let's get into reviewing \u001b[1;36m20\u001b[0m of the best songs for your next house party. \u001b[1;36m1\u001b[0m. rockstar by Post Malone \u001b[1m(\u001b[0mfeat. \u001b[1;36m21\u001b[0m\n",
       "Savage\u001b[1m)\u001b[0m \u001b[32m\"rockstar\"\u001b[0m by Post Malone \u001b[1m(\u001b[0mfeat. \u001b[1;36m21\u001b[0m Savage\u001b[1m)\u001b[0m is an incredibly popular song with a great instrumental and an \n",
       "infectious chorus, which makes it a perfect song for playing at parties. The whole song is like a giant energy \u001b[33m...\u001b[0m\n",
       "\n",
       "|late nights in the wayne manor - YouTube Music\u001b[1m]\u001b[0m\u001b[1m(\u001b[0m\u001b[4;94mhttps://music.youtube.com/watch?\u001b[0m\u001b[4;94mv\u001b[0m\u001b[4;94m=\u001b[0m\u001b[4;94moOdHCjj3jn4\u001b[0m\u001b[4;94m)\u001b[0m\n",
       "these are songs that bruce wayne listens to while wandering the halls of the great wayne manor. find this playlist \n",
       "on my spotify: \u001b[4;94mhttps://open.spotify.com/u...\u001b[0m\n",
       "\n",
       "|The Best Songs For Parties - The Ambient Mixer \n",
       "Blog\u001b[1m]\u001b[0m\u001b[1m(\u001b[0m\u001b[4;94mhttps://blog.ambient-mixer.com/usage/parties-2/the-best-songs-for-parties/\u001b[0m\u001b[4;94m)\u001b[0m\n",
       "The \u001b[1;36m100\u001b[0m best party songs ever made. Top \u001b[1;36m100\u001b[0m Best Party Songs Of All Time. Of course, these are just \u001b[1;36m2\u001b[0m of the many \n",
       "available playlists to choose from. However, these two contain some of the most popular ones most people usually \n",
       "end up using. If these are not the type of songs you or your guests might enjoy then simply follow the steps in the\n",
       "\u001b[33m...\u001b[0m\n",
       "\n",
       "|Party Music Guide: Ultimate Tips for the Perfect \n",
       "Playlist\u001b[1m]\u001b[0m\u001b[1m(\u001b[0m\u001b[4;94mhttps://thebackstage-deezer.com/music/perfect-party-music-playlist/\u001b[0m\u001b[4;94m)\u001b[0m\n",
       "Check out the best party playlists and top party songs to ensure your next party is packed! The most popular party \n",
       "songs are here, just hit play. \u001b[33m...\u001b[0m to decor. But, most of all, you need to have fantastic music. We recommend you \n",
       "get at least three hours' worth of party music queued and ready — that's about \u001b[1;36m75\u001b[0m songs. Lucky for you, we've \u001b[33m...\u001b[0m\n",
       "\n",
       "|The Perfect Music for Your Party - She Keeps a Lovely \n",
       "Home\u001b[1m]\u001b[0m\u001b[1m(\u001b[0m\u001b[4;94mhttps://www.shekeepsalovelyhome.com/perfect-party-music/\u001b[0m\u001b[4;94m)\u001b[0m\n",
       "For More Classically Refined Tastes. Baroque Radio - Think extra fancy, pinky-up dinner/cocktail party or high tea.\n",
       "It's the only Pandora station you need for Classical. Believe me. No matter how divine Mozart's piano concerto \u001b[1;36m21\u001b[0m \n",
       "in C minor, or Beethoven's moonlight sonata - if you try to make a radio out of these guys, Gustaf Holst's \u001b[32m\"Mars\"\u001b[0m \n",
       "will eventually make an appearance \u001b[33m...\u001b[0m\n"
      ]
     },
     "metadata": {},
     "output_type": "display_data"
    },
    {
     "data": {
      "text/html": [
       "<pre style=\"white-space:pre;overflow-x:auto;line-height:normal;font-family:Menlo,'DejaVu Sans Mono',consolas,'Courier New',monospace\"><span style=\"color: #7f7f7f; text-decoration-color: #7f7f7f\">[Step 1: Duration 6.07 seconds| Input tokens: 1,161 | Output tokens: 26]</span>\n",
       "</pre>\n"
      ],
      "text/plain": [
       "\u001b[2m[Step 1: Duration 6.07 seconds| Input tokens: 1,161 | Output tokens: 26]\u001b[0m\n"
      ]
     },
     "metadata": {},
     "output_type": "display_data"
    },
    {
     "data": {
      "text/html": [
       "<pre style=\"white-space:pre;overflow-x:auto;line-height:normal;font-family:Menlo,'DejaVu Sans Mono',consolas,'Courier New',monospace\"><span style=\"color: #d4b702; text-decoration-color: #d4b702\">━━━━━━━━━━━━━━━━━━━━━━━━━━━━━━━━━━━━━━━━━━━━━━━━━━━━━ </span><span style=\"font-weight: bold\">Step </span><span style=\"color: #008080; text-decoration-color: #008080; font-weight: bold\">2</span><span style=\"color: #d4b702; text-decoration-color: #d4b702\"> ━━━━━━━━━━━━━━━━━━━━━━━━━━━━━━━━━━━━━━━━━━━━━━━━━━━━━━</span>\n",
       "</pre>\n"
      ],
      "text/plain": [
       "\u001b[38;2;212;183;2m━━━━━━━━━━━━━━━━━━━━━━━━━━━━━━━━━━━━━━━━━━━━━━━━━━━━━ \u001b[0m\u001b[1mStep \u001b[0m\u001b[1;36m2\u001b[0m\u001b[38;2;212;183;2m ━━━━━━━━━━━━━━━━━━━━━━━━━━━━━━━━━━━━━━━━━━━━━━━━━━━━━━\u001b[0m\n"
      ]
     },
     "metadata": {},
     "output_type": "display_data"
    },
    {
     "data": {
      "text/html": [
       "<pre style=\"white-space:pre;overflow-x:auto;line-height:normal;font-family:Menlo,'DejaVu Sans Mono',consolas,'Courier New',monospace\">╭─────────────────────────────────────────────────────────────────────────────────────────────────────────────────╮\n",
       "│ Calling tool: 'web_search' with arguments: {'query': \"Bruce Wayne party playlist for Wayne's mansion\"}          │\n",
       "╰─────────────────────────────────────────────────────────────────────────────────────────────────────────────────╯\n",
       "</pre>\n"
      ],
      "text/plain": [
       "╭─────────────────────────────────────────────────────────────────────────────────────────────────────────────────╮\n",
       "│ Calling tool: 'web_search' with arguments: {'query': \"Bruce Wayne party playlist for Wayne's mansion\"}          │\n",
       "╰─────────────────────────────────────────────────────────────────────────────────────────────────────────────────╯\n"
      ]
     },
     "metadata": {},
     "output_type": "display_data"
    },
    {
     "data": {
      "text/html": [
       "<pre style=\"white-space:pre;overflow-x:auto;line-height:normal;font-family:Menlo,'DejaVu Sans Mono',consolas,'Courier New',monospace\">Observations: ## Search Results\n",
       "\n",
       "|late nights in the wayne manor | a bruce wayne rock/blues playlist<span style=\"font-weight: bold\">](</span><span style=\"color: #0000ff; text-decoration-color: #0000ff; text-decoration: underline\">https://www.youtube.com/watch?v=oOdHCjj3jn4)</span>\n",
       "these are songs that bruce wayne listens to while wandering the halls of the great wayne manor.find this playlist \n",
       "on my spotify: <span style=\"color: #0000ff; text-decoration-color: #0000ff; text-decoration: underline\">https://open.spotify.com/use...</span>\n",
       "\n",
       "|BATMAN BEGINS - Bruce Wayne Clears Wayne Manor of Party Guests<span style=\"font-weight: bold\">](</span><span style=\"color: #0000ff; text-decoration-color: #0000ff; text-decoration: underline\">https://www.youtube.com/watch?v=lq3gEoSTFso)</span>\n",
       "Established in <span style=\"color: #008080; text-decoration-color: #008080; font-weight: bold\">1998</span> by lifelong Batman fan Bill <span style=\"color: #008000; text-decoration-color: #008000\">\"Jett\"</span> Ramey, BATMAN-ON-FILM.COM is the longest-running and \n",
       "most-respected Batman movie website on the Net.BA<span style=\"color: #808000; text-decoration-color: #808000\">...</span>\n",
       "\n",
       "|Wayne Manor - Wikipedia<span style=\"font-weight: bold\">](</span><span style=\"color: #0000ff; text-decoration-color: #0000ff; text-decoration: underline\">https://en.wikipedia.org/wiki/Wayne_Manor)</span>\n",
       "Wayne Manor is a fictional mansion appearing in American comic books published by DC Comics. It is the home of \n",
       "Bruce Wayne, owner of Wayne Enterprises, who is also the superhero Batman. The house is depicted as a large mansion\n",
       "on the outskirts of Gotham City and is maintained by the Wayne family's butler, Alfred Pennyworth.\n",
       "\n",
       "|Bruce Wayne's Official Playlist - playlist by ⊹ ׄ ׅ syd | \n",
       "Spotify<span style=\"font-weight: bold\">](</span><span style=\"color: #0000ff; text-decoration-color: #0000ff; text-decoration: underline\">https://open.spotify.com/playlist/6k4rrWiWlbkhILzAcDMzbu)</span>\n",
       "Bruce Wayne's Official Playlist · Playlist · <span style=\"color: #008080; text-decoration-color: #008080; font-weight: bold\">405</span> songs · <span style=\"color: #008080; text-decoration-color: #008080; font-weight: bold\">292</span> likes\n",
       "\n",
       "|Bruce Wayne- Oh come on Bruce all alone in this big \n",
       "mansion<span style=\"font-weight: bold\">](</span><span style=\"color: #0000ff; text-decoration-color: #0000ff; text-decoration: underline\">https://soundcloud.com/user-807330140/bruce-wayne-oh-come-on-bruce)</span>\n",
       "Stream Bruce Wayne- Oh come on Bruce all alone in this big mansion by Matt3 on desktop and mobile. Play over <span style=\"color: #008080; text-decoration-color: #008080; font-weight: bold\">320</span> \n",
       "million tracks for free on SoundCloud.\n",
       "\n",
       "|bruce wayne - playlist by modernratt | Spotify<span style=\"font-weight: bold\">](</span><span style=\"color: #0000ff; text-decoration-color: #0000ff; text-decoration: underline\">https://open.spotify.com/playlist/7ECd16jHExW3zEANNmwYBP)</span>\n",
       "bruce wayne · Playlist · <span style=\"color: #008080; text-decoration-color: #008080; font-weight: bold\">121</span> songs · <span style=\"color: #008080; text-decoration-color: #008080; font-weight: bold\">27</span> likes\n",
       "\n",
       "|Bruce Wayne Playlist : r/SpotifyPlaylists - \n",
       "Reddit<span style=\"font-weight: bold\">](</span><span style=\"color: #0000ff; text-decoration-color: #0000ff; text-decoration: underline\">https://www.reddit.com/r/SpotifyPlaylists/comments/ualjyg/bruce_wayne_playlist/)</span>\n",
       "211K subscribers in the SpotifyPlaylists community. Post your spotify playlist for the world to see.\n",
       "\n",
       "|Top <span style=\"color: #008080; text-decoration-color: #008080; font-weight: bold\">10</span> bruce wayne mansion ideas and inspiration - \n",
       "Pinterest<span style=\"font-weight: bold\">](</span><span style=\"color: #0000ff; text-decoration-color: #0000ff; text-decoration: underline\">https://www.pinterest.com/ideas/bruce-wayne-mansion/906032369072/)</span>\n",
       "Find and save ideas about bruce wayne mansion on Pinterest.\n",
       "\n",
       "|Wayne Manor From the <span style=\"color: #008000; text-decoration-color: #008000\">\"Batman\"</span> Television \n",
       "Series<span style=\"font-weight: bold\">](</span><span style=\"color: #0000ff; text-decoration-color: #0000ff; text-decoration: underline\">https://www.iamnotastalker.com/2010/04/06/wayne-manor-from-the-batman-television-series/)</span>\n",
       "Just up the street from the Just Married mansion which I blogged about yesterday is the residence which stood in \n",
       "for Wayne Manor, aka Batman's abode, in the <span style=\"color: #008080; text-decoration-color: #008080; font-weight: bold\">1966</span> television series and movie of the same name. As I mentioned in \n",
       "yesterday's post, the Batman mansion and the Just Married mansion are quite often mistaken for each other due to a \n",
       "myriad of reasons. So, to set the record straight <span style=\"color: #808000; text-decoration-color: #808000\">...</span>\n",
       "\n",
       "|late nights in the wayne manor part <span style=\"color: #008080; text-decoration-color: #008080; font-weight: bold\">2</span> | a bruce wayne rock/blues \n",
       "playlist<span style=\"font-weight: bold\">](</span><span style=\"color: #0000ff; text-decoration-color: #0000ff; text-decoration: underline\">https://www.youtube.com/watch?v=DBRSHk2XpmU)</span>\n",
       "these are songs that bruce wayne listens to while wandering the halls of the great wayne manor. this is part <span style=\"color: #008080; text-decoration-color: #008080; font-weight: bold\">2.</span>find\n",
       "this playlist on my spotify: <span style=\"color: #0000ff; text-decoration-color: #0000ff; text-decoration: underline\">https://open...</span>\n",
       "</pre>\n"
      ],
      "text/plain": [
       "Observations: ## Search Results\n",
       "\n",
       "|late nights in the wayne manor | a bruce wayne rock/blues playlist\u001b[1m]\u001b[0m\u001b[1m(\u001b[0m\u001b[4;94mhttps://www.youtube.com/watch?\u001b[0m\u001b[4;94mv\u001b[0m\u001b[4;94m=\u001b[0m\u001b[4;94moOdHCjj3jn4\u001b[0m\u001b[4;94m)\u001b[0m\n",
       "these are songs that bruce wayne listens to while wandering the halls of the great wayne manor.find this playlist \n",
       "on my spotify: \u001b[4;94mhttps://open.spotify.com/use...\u001b[0m\n",
       "\n",
       "|BATMAN BEGINS - Bruce Wayne Clears Wayne Manor of Party Guests\u001b[1m]\u001b[0m\u001b[1m(\u001b[0m\u001b[4;94mhttps://www.youtube.com/watch?\u001b[0m\u001b[4;94mv\u001b[0m\u001b[4;94m=\u001b[0m\u001b[4;94mlq3gEoSTFso\u001b[0m\u001b[4;94m)\u001b[0m\n",
       "Established in \u001b[1;36m1998\u001b[0m by lifelong Batman fan Bill \u001b[32m\"Jett\"\u001b[0m Ramey, BATMAN-ON-FILM.COM is the longest-running and \n",
       "most-respected Batman movie website on the Net.BA\u001b[33m...\u001b[0m\n",
       "\n",
       "|Wayne Manor - Wikipedia\u001b[1m]\u001b[0m\u001b[1m(\u001b[0m\u001b[4;94mhttps://en.wikipedia.org/wiki/Wayne_Manor\u001b[0m\u001b[4;94m)\u001b[0m\n",
       "Wayne Manor is a fictional mansion appearing in American comic books published by DC Comics. It is the home of \n",
       "Bruce Wayne, owner of Wayne Enterprises, who is also the superhero Batman. The house is depicted as a large mansion\n",
       "on the outskirts of Gotham City and is maintained by the Wayne family's butler, Alfred Pennyworth.\n",
       "\n",
       "|Bruce Wayne's Official Playlist - playlist by ⊹ ׄ ׅ syd | \n",
       "Spotify\u001b[1m]\u001b[0m\u001b[1m(\u001b[0m\u001b[4;94mhttps://open.spotify.com/playlist/6k4rrWiWlbkhILzAcDMzbu\u001b[0m\u001b[4;94m)\u001b[0m\n",
       "Bruce Wayne's Official Playlist · Playlist · \u001b[1;36m405\u001b[0m songs · \u001b[1;36m292\u001b[0m likes\n",
       "\n",
       "|Bruce Wayne- Oh come on Bruce all alone in this big \n",
       "mansion\u001b[1m]\u001b[0m\u001b[1m(\u001b[0m\u001b[4;94mhttps://soundcloud.com/user-807330140/bruce-wayne-oh-come-on-bruce\u001b[0m\u001b[4;94m)\u001b[0m\n",
       "Stream Bruce Wayne- Oh come on Bruce all alone in this big mansion by Matt3 on desktop and mobile. Play over \u001b[1;36m320\u001b[0m \n",
       "million tracks for free on SoundCloud.\n",
       "\n",
       "|bruce wayne - playlist by modernratt | Spotify\u001b[1m]\u001b[0m\u001b[1m(\u001b[0m\u001b[4;94mhttps://open.spotify.com/playlist/7ECd16jHExW3zEANNmwYBP\u001b[0m\u001b[4;94m)\u001b[0m\n",
       "bruce wayne · Playlist · \u001b[1;36m121\u001b[0m songs · \u001b[1;36m27\u001b[0m likes\n",
       "\n",
       "|Bruce Wayne Playlist : r/SpotifyPlaylists - \n",
       "Reddit\u001b[1m]\u001b[0m\u001b[1m(\u001b[0m\u001b[4;94mhttps://www.reddit.com/r/SpotifyPlaylists/comments/ualjyg/bruce_wayne_playlist/\u001b[0m\u001b[4;94m)\u001b[0m\n",
       "211K subscribers in the SpotifyPlaylists community. Post your spotify playlist for the world to see.\n",
       "\n",
       "|Top \u001b[1;36m10\u001b[0m bruce wayne mansion ideas and inspiration - \n",
       "Pinterest\u001b[1m]\u001b[0m\u001b[1m(\u001b[0m\u001b[4;94mhttps://www.pinterest.com/ideas/bruce-wayne-mansion/906032369072/\u001b[0m\u001b[4;94m)\u001b[0m\n",
       "Find and save ideas about bruce wayne mansion on Pinterest.\n",
       "\n",
       "|Wayne Manor From the \u001b[32m\"Batman\"\u001b[0m Television \n",
       "Series\u001b[1m]\u001b[0m\u001b[1m(\u001b[0m\u001b[4;94mhttps://www.iamnotastalker.com/2010/04/06/wayne-manor-from-the-batman-television-series/\u001b[0m\u001b[4;94m)\u001b[0m\n",
       "Just up the street from the Just Married mansion which I blogged about yesterday is the residence which stood in \n",
       "for Wayne Manor, aka Batman's abode, in the \u001b[1;36m1966\u001b[0m television series and movie of the same name. As I mentioned in \n",
       "yesterday's post, the Batman mansion and the Just Married mansion are quite often mistaken for each other due to a \n",
       "myriad of reasons. So, to set the record straight \u001b[33m...\u001b[0m\n",
       "\n",
       "|late nights in the wayne manor part \u001b[1;36m2\u001b[0m | a bruce wayne rock/blues \n",
       "playlist\u001b[1m]\u001b[0m\u001b[1m(\u001b[0m\u001b[4;94mhttps://www.youtube.com/watch?\u001b[0m\u001b[4;94mv\u001b[0m\u001b[4;94m=\u001b[0m\u001b[4;94mDBRSHk2XpmU\u001b[0m\u001b[4;94m)\u001b[0m\n",
       "these are songs that bruce wayne listens to while wandering the halls of the great wayne manor. this is part \u001b[1;36m2.\u001b[0mfind\n",
       "this playlist on my spotify: \u001b[4;94mhttps://open...\u001b[0m\n"
      ]
     },
     "metadata": {},
     "output_type": "display_data"
    },
    {
     "data": {
      "text/html": [
       "<pre style=\"white-space:pre;overflow-x:auto;line-height:normal;font-family:Menlo,'DejaVu Sans Mono',consolas,'Courier New',monospace\"><span style=\"color: #7f7f7f; text-decoration-color: #7f7f7f\">[Step 2: Duration 4.45 seconds| Input tokens: 3,398 | Output tokens: 54]</span>\n",
       "</pre>\n"
      ],
      "text/plain": [
       "\u001b[2m[Step 2: Duration 4.45 seconds| Input tokens: 3,398 | Output tokens: 54]\u001b[0m\n"
      ]
     },
     "metadata": {},
     "output_type": "display_data"
    },
    {
     "data": {
      "text/html": [
       "<pre style=\"white-space:pre;overflow-x:auto;line-height:normal;font-family:Menlo,'DejaVu Sans Mono',consolas,'Courier New',monospace\"><span style=\"color: #d4b702; text-decoration-color: #d4b702\">━━━━━━━━━━━━━━━━━━━━━━━━━━━━━━━━━━━━━━━━━━━━━━━━━━━━━ </span><span style=\"font-weight: bold\">Step </span><span style=\"color: #008080; text-decoration-color: #008080; font-weight: bold\">3</span><span style=\"color: #d4b702; text-decoration-color: #d4b702\"> ━━━━━━━━━━━━━━━━━━━━━━━━━━━━━━━━━━━━━━━━━━━━━━━━━━━━━━</span>\n",
       "</pre>\n"
      ],
      "text/plain": [
       "\u001b[38;2;212;183;2m━━━━━━━━━━━━━━━━━━━━━━━━━━━━━━━━━━━━━━━━━━━━━━━━━━━━━ \u001b[0m\u001b[1mStep \u001b[0m\u001b[1;36m3\u001b[0m\u001b[38;2;212;183;2m ━━━━━━━━━━━━━━━━━━━━━━━━━━━━━━━━━━━━━━━━━━━━━━━━━━━━━━\u001b[0m\n"
      ]
     },
     "metadata": {},
     "output_type": "display_data"
    },
    {
     "data": {
      "text/html": [
       "<pre style=\"white-space:pre;overflow-x:auto;line-height:normal;font-family:Menlo,'DejaVu Sans Mono',consolas,'Courier New',monospace\">╭─────────────────────────────────────────────────────────────────────────────────────────────────────────────────╮\n",
       "│ Calling tool: 'final_answer' with arguments: {'answer': \"For a festive party at Wayne's mansion in the style of │\n",
       "│ Bruce Wayne, you could mix elements from the playlists found in the search results. Here's a suggested playlist │\n",
       "│ mix:\\\\n1. [\\\\\"}                                                                                                 │\n",
       "╰─────────────────────────────────────────────────────────────────────────────────────────────────────────────────╯\n",
       "</pre>\n"
      ],
      "text/plain": [
       "╭─────────────────────────────────────────────────────────────────────────────────────────────────────────────────╮\n",
       "│ Calling tool: 'final_answer' with arguments: {'answer': \"For a festive party at Wayne's mansion in the style of │\n",
       "│ Bruce Wayne, you could mix elements from the playlists found in the search results. Here's a suggested playlist │\n",
       "│ mix:\\\\n1. [\\\\\"}                                                                                                 │\n",
       "╰─────────────────────────────────────────────────────────────────────────────────────────────────────────────────╯\n"
      ]
     },
     "metadata": {},
     "output_type": "display_data"
    },
    {
     "data": {
      "text/html": [
       "<pre style=\"white-space:pre;overflow-x:auto;line-height:normal;font-family:Menlo,'DejaVu Sans Mono',consolas,'Courier New',monospace\"><span style=\"color: #d4b702; text-decoration-color: #d4b702; font-weight: bold\">Final answer: For a festive party at Wayne's mansion in the style of Bruce Wayne, you could mix elements from the </span>\n",
       "<span style=\"color: #d4b702; text-decoration-color: #d4b702; font-weight: bold\">playlists found in the search results. Here's a suggested playlist mix:\\n1. [\\</span>\n",
       "</pre>\n"
      ],
      "text/plain": [
       "\u001b[1;38;2;212;183;2mFinal answer: For a festive party at Wayne's mansion in the style of Bruce Wayne, you could mix elements from the \u001b[0m\n",
       "\u001b[1;38;2;212;183;2mplaylists found in the search results. Here's a suggested playlist mix:\\n1. [\\\u001b[0m\n"
      ]
     },
     "metadata": {},
     "output_type": "display_data"
    },
    {
     "data": {
      "text/html": [
       "<pre style=\"white-space:pre;overflow-x:auto;line-height:normal;font-family:Menlo,'DejaVu Sans Mono',consolas,'Courier New',monospace\"><span style=\"color: #7f7f7f; text-decoration-color: #7f7f7f\">[Step 3: Duration 8.89 seconds| Input tokens: 6,478 | Output tokens: 113]</span>\n",
       "</pre>\n"
      ],
      "text/plain": [
       "\u001b[2m[Step 3: Duration 8.89 seconds| Input tokens: 6,478 | Output tokens: 113]\u001b[0m\n"
      ]
     },
     "metadata": {},
     "output_type": "display_data"
    },
    {
     "data": {
      "text/plain": [
       "\"For a festive party at Wayne's mansion in the style of Bruce Wayne, you could mix elements from the playlists found in the search results. Here's a suggested playlist mix:\\\\n1. [\\\\\""
      ]
     },
     "execution_count": 6,
     "metadata": {},
     "output_type": "execute_result"
    }
   ],
   "source": [
    "agent.run(\"Search for the best music recommendations for a party at the Wayne's mansion.\")"
   ]
  }
 ],
 "metadata": {
  "kernelspec": {
   "display_name": "Python 3 (ipykernel)",
   "language": "python",
   "name": "python3"
  },
  "language_info": {
   "codemirror_mode": {
    "name": "ipython",
    "version": 3
   },
   "file_extension": ".py",
   "mimetype": "text/x-python",
   "name": "python",
   "nbconvert_exporter": "python",
   "pygments_lexer": "ipython3",
   "version": "3.10.12"
  }
 },
 "nbformat": 4,
 "nbformat_minor": 5
}
